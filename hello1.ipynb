{
 "cells": [
  {
   "cell_type": "code",
   "execution_count": 2,
   "id": "f32c79ec",
   "metadata": {},
   "outputs": [
    {
     "data": {
      "text/plain": [
       "10"
      ]
     },
     "execution_count": 2,
     "metadata": {},
     "output_type": "execute_result"
    }
   ],
   "source": [
    "2*5\n"
   ]
  },
  {
   "cell_type": "code",
   "execution_count": 4,
   "id": "85baca38",
   "metadata": {},
   "outputs": [
    {
     "data": {
      "text/plain": [
       "45"
      ]
     },
     "execution_count": 4,
     "metadata": {},
     "output_type": "execute_result"
    }
   ],
   "source": [
    "5*9\n"
   ]
  },
  {
   "cell_type": "code",
   "execution_count": 5,
   "id": "d20163d3",
   "metadata": {},
   "outputs": [
    {
     "data": {
      "text/plain": [
       "46.142857142857146"
      ]
     },
     "execution_count": 5,
     "metadata": {},
     "output_type": "execute_result"
    }
   ],
   "source": [
    "(56 + 89 + 89*2)/7"
   ]
  },
  {
   "cell_type": "code",
   "execution_count": 6,
   "id": "58830a17",
   "metadata": {},
   "outputs": [
    {
     "data": {
      "text/plain": [
       "5.666666666666667"
      ]
     },
     "execution_count": 6,
     "metadata": {},
     "output_type": "execute_result"
    }
   ],
   "source": [
    "17/3"
   ]
  },
  {
   "cell_type": "code",
   "execution_count": 7,
   "id": "700a77b5",
   "metadata": {},
   "outputs": [
    {
     "data": {
      "text/plain": [
       "5"
      ]
     },
     "execution_count": 7,
     "metadata": {},
     "output_type": "execute_result"
    }
   ],
   "source": [
    "17 // 3"
   ]
  },
  {
   "cell_type": "code",
   "execution_count": 8,
   "id": "f5b5fc5d",
   "metadata": {},
   "outputs": [
    {
     "data": {
      "text/plain": [
       "1"
      ]
     },
     "execution_count": 8,
     "metadata": {},
     "output_type": "execute_result"
    }
   ],
   "source": [
    " 17 % 8"
   ]
  },
  {
   "cell_type": "code",
   "execution_count": 9,
   "id": "f04398a2",
   "metadata": {},
   "outputs": [
    {
     "data": {
      "text/plain": [
       "1727094849536"
      ]
     },
     "execution_count": 9,
     "metadata": {},
     "output_type": "execute_result"
    }
   ],
   "source": [
    "56 ** 7"
   ]
  },
  {
   "cell_type": "code",
   "execution_count": 10,
   "id": "7627f7fe",
   "metadata": {},
   "outputs": [
    {
     "data": {
      "text/plain": [
       "216"
      ]
     },
     "execution_count": 10,
     "metadata": {},
     "output_type": "execute_result"
    }
   ],
   "source": [
    "6 ** 3"
   ]
  },
  {
   "cell_type": "code",
   "execution_count": 11,
   "id": "5ec90e2e",
   "metadata": {},
   "outputs": [
    {
     "data": {
      "text/plain": [
       "25"
      ]
     },
     "execution_count": 11,
     "metadata": {},
     "output_type": "execute_result"
    }
   ],
   "source": [
    "5 ** 2"
   ]
  },
  {
   "cell_type": "code",
   "execution_count": 12,
   "id": "861625a7",
   "metadata": {},
   "outputs": [
    {
     "data": {
      "text/plain": [
       "49"
      ]
     },
     "execution_count": 12,
     "metadata": {},
     "output_type": "execute_result"
    }
   ],
   "source": [
    "7 ** 2"
   ]
  },
  {
   "cell_type": "code",
   "execution_count": 13,
   "id": "441d8c5e",
   "metadata": {},
   "outputs": [
    {
     "data": {
      "text/plain": [
       "128"
      ]
     },
     "execution_count": 13,
     "metadata": {},
     "output_type": "execute_result"
    }
   ],
   "source": [
    "2 ** 7"
   ]
  },
  {
   "cell_type": "code",
   "execution_count": 15,
   "id": "1e7f7a11",
   "metadata": {},
   "outputs": [
    {
     "data": {
      "text/plain": [
       "'\"yes\", they are hear'"
      ]
     },
     "execution_count": 15,
     "metadata": {},
     "output_type": "execute_result"
    }
   ],
   "source": [
    "\"\\\"yes\\\", they are hear\"\n"
   ]
  },
  {
   "cell_type": "code",
   "execution_count": 16,
   "id": "11bff380",
   "metadata": {},
   "outputs": [
    {
     "data": {
      "text/plain": [
       "\"let's do that\""
      ]
     },
     "execution_count": 16,
     "metadata": {},
     "output_type": "execute_result"
    }
   ],
   "source": [
    "\"let's do that\""
   ]
  },
  {
   "cell_type": "code",
   "execution_count": 1,
   "id": "4d23f88a",
   "metadata": {},
   "outputs": [
    {
     "name": "stdout",
     "output_type": "stream",
     "text": [
      "hello\n"
     ]
    }
   ],
   "source": [
    "print(\"hello\")\n"
   ]
  },
  {
   "cell_type": "code",
   "execution_count": 17,
   "id": "419f0757",
   "metadata": {},
   "outputs": [
    {
     "data": {
      "text/plain": [
       "\"let's do this\""
      ]
     },
     "execution_count": 17,
     "metadata": {},
     "output_type": "execute_result"
    }
   ],
   "source": [
    "'let\\'s do this'"
   ]
  },
  {
   "cell_type": "code",
   "execution_count": 21,
   "id": "e840cebd",
   "metadata": {},
   "outputs": [
    {
     "name": "stdout",
     "output_type": "stream",
     "text": [
      "14\n"
     ]
    }
   ],
   "source": [
    "print(5 + 9)"
   ]
  },
  {
   "cell_type": "code",
   "execution_count": 23,
   "id": "7099ebce",
   "metadata": {},
   "outputs": [
    {
     "name": "stdout",
     "output_type": "stream",
     "text": [
      "let's do this\n"
     ]
    }
   ],
   "source": [
    "print('let\\'s do this')"
   ]
  },
  {
   "cell_type": "code",
   "execution_count": 29,
   "id": "d83c1e8f",
   "metadata": {},
   "outputs": [
    {
     "name": "stdout",
     "output_type": "stream",
     "text": [
      "first line.\n",
      "second line\n"
     ]
    }
   ],
   "source": [
    "print( \"first line.\\nsecond line\")"
   ]
  },
  {
   "cell_type": "code",
   "execution_count": 26,
   "id": "b99e8aa1",
   "metadata": {},
   "outputs": [
    {
     "data": {
      "text/plain": [
       "72"
      ]
     },
     "execution_count": 26,
     "metadata": {},
     "output_type": "execute_result"
    }
   ],
   "source": [
    "8 * 9"
   ]
  },
  {
   "cell_type": "code",
   "execution_count": 2,
   "id": "976104b5",
   "metadata": {},
   "outputs": [
    {
     "data": {
      "text/plain": [
       "True"
      ]
     },
     "execution_count": 2,
     "metadata": {},
     "output_type": "execute_result"
    }
   ],
   "source": [
    "5>2"
   ]
  },
  {
   "cell_type": "code",
   "execution_count": 3,
   "id": "61fe21a2",
   "metadata": {},
   "outputs": [
    {
     "data": {
      "text/plain": [
       "False"
      ]
     },
     "execution_count": 3,
     "metadata": {},
     "output_type": "execute_result"
    }
   ],
   "source": [
    "3>5"
   ]
  },
  {
   "cell_type": "code",
   "execution_count": 4,
   "id": "064a7cce",
   "metadata": {},
   "outputs": [
    {
     "data": {
      "text/plain": [
       "5"
      ]
     },
     "execution_count": 4,
     "metadata": {},
     "output_type": "execute_result"
    }
   ],
   "source": [
    "3 and 5"
   ]
  },
  {
   "cell_type": "code",
   "execution_count": 5,
   "id": "57264c1b",
   "metadata": {},
   "outputs": [
    {
     "data": {
      "text/plain": [
       "False"
      ]
     },
     "execution_count": 5,
     "metadata": {},
     "output_type": "execute_result"
    }
   ],
   "source": [
    "3>5 and 5<3"
   ]
  },
  {
   "cell_type": "code",
   "execution_count": null,
   "id": "a313fcbc",
   "metadata": {},
   "outputs": [],
   "source": []
  },
  {
   "cell_type": "code",
   "execution_count": null,
   "id": "f3da6c59",
   "metadata": {},
   "outputs": [],
   "source": []
  },
  {
   "cell_type": "code",
   "execution_count": 1,
   "id": "7924770a",
   "metadata": {},
   "outputs": [
    {
     "data": {
      "text/plain": [
       "'ronronronronronronronron'"
      ]
     },
     "execution_count": 1,
     "metadata": {},
     "output_type": "execute_result"
    }
   ],
   "source": [
    "\"ron\"*8"
   ]
  },
  {
   "cell_type": "code",
   "execution_count": 2,
   "id": "5f278343",
   "metadata": {},
   "outputs": [
    {
     "data": {
      "text/plain": [
       "'ron20'"
      ]
     },
     "execution_count": 2,
     "metadata": {},
     "output_type": "execute_result"
    }
   ],
   "source": [
    "\"ron\" + \"20\""
   ]
  },
  {
   "cell_type": "code",
   "execution_count": 3,
   "id": "7db73ee2",
   "metadata": {},
   "outputs": [
    {
     "data": {
      "text/plain": [
       "False"
      ]
     },
     "execution_count": 3,
     "metadata": {},
     "output_type": "execute_result"
    }
   ],
   "source": [
    "53 > 65"
   ]
  },
  {
   "cell_type": "code",
   "execution_count": 6,
   "id": "38a9e21c",
   "metadata": {},
   "outputs": [
    {
     "data": {
      "text/plain": [
       "'7d23'"
      ]
     },
     "execution_count": 6,
     "metadata": {},
     "output_type": "execute_result"
    }
   ],
   "source": [
    "\"7d23\""
   ]
  },
  {
   "cell_type": "code",
   "execution_count": 7,
   "id": "90a41d2a",
   "metadata": {},
   "outputs": [
    {
     "data": {
      "text/plain": [
       "False"
      ]
     },
     "execution_count": 7,
     "metadata": {},
     "output_type": "execute_result"
    }
   ],
   "source": [
    "787 ==56"
   ]
  },
  {
   "cell_type": "code",
   "execution_count": 8,
   "id": "d661b5f1",
   "metadata": {},
   "outputs": [
    {
     "name": "stdout",
     "output_type": "stream",
     "text": [
      "is that\"your case\n"
     ]
    }
   ],
   "source": [
    "print(\"is that\"your case)"
   ]
  },
  {
   "cell_type": "code",
   "execution_count": 21,
   "id": "531690fa",
   "metadata": {},
   "outputs": [
    {
     "name": "stdout",
     "output_type": "stream",
     "text": [
      "8\n"
     ]
    }
   ],
   "source": [
    "a = 5\n",
    "b = 8\n",
    "c = 9\n",
    "\n",
    "print(b)\n"
   ]
  },
  {
   "cell_type": "code",
   "execution_count": 18,
   "id": "4f6a3ad9",
   "metadata": {},
   "outputs": [
    {
     "name": "stdout",
     "output_type": "stream",
     "text": [
      "b\n"
     ]
    }
   ],
   "source": [
    "print('b')"
   ]
  },
  {
   "cell_type": "markdown",
   "id": "f213423a",
   "metadata": {},
   "source": [
    "variables\n"
   ]
  },
  {
   "cell_type": "code",
   "execution_count": 22,
   "id": "d88f548f",
   "metadata": {},
   "outputs": [
    {
     "name": "stdout",
     "output_type": "stream",
     "text": [
      "5\n"
     ]
    }
   ],
   "source": [
    "a = 5\n",
    "print(a)"
   ]
  },
  {
   "cell_type": "code",
   "execution_count": 14,
   "id": "6a93e475",
   "metadata": {},
   "outputs": [
    {
     "name": "stdout",
     "output_type": "stream",
     "text": [
      "a\n"
     ]
    }
   ],
   "source": [
    "print(a)"
   ]
  },
  {
   "cell_type": "code",
   "execution_count": 23,
   "id": "45c77c6a",
   "metadata": {},
   "outputs": [],
   "source": [
    "# data types"
   ]
  },
  {
   "cell_type": "code",
   "execution_count": 24,
   "id": "0fab01eb",
   "metadata": {},
   "outputs": [],
   "source": [
    "a = 89"
   ]
  },
  {
   "cell_type": "code",
   "execution_count": 25,
   "id": "71e153a1",
   "metadata": {},
   "outputs": [],
   "source": [
    "b = 56\n",
    "a = b"
   ]
  },
  {
   "cell_type": "code",
   "execution_count": 26,
   "id": "4eee0fa3",
   "metadata": {},
   "outputs": [
    {
     "name": "stdout",
     "output_type": "stream",
     "text": [
      "56\n"
     ]
    }
   ],
   "source": [
    "print(a)"
   ]
  },
  {
   "cell_type": "code",
   "execution_count": 29,
   "id": "390d4efc",
   "metadata": {},
   "outputs": [
    {
     "name": "stdout",
     "output_type": "stream",
     "text": [
      "56\n"
     ]
    }
   ],
   "source": [
    "b = a\n",
    "print(b)"
   ]
  },
  {
   "cell_type": "code",
   "execution_count": 30,
   "id": "07a10c2b",
   "metadata": {},
   "outputs": [
    {
     "name": "stdout",
     "output_type": "stream",
     "text": [
      "66\n"
     ]
    }
   ],
   "source": [
    "a = b + 10\n",
    "\n",
    "print(a)"
   ]
  },
  {
   "cell_type": "code",
   "execution_count": 31,
   "id": "b10932ab",
   "metadata": {},
   "outputs": [
    {
     "data": {
      "text/plain": [
       "int"
      ]
     },
     "execution_count": 31,
     "metadata": {},
     "output_type": "execute_result"
    }
   ],
   "source": [
    "a = 89\n",
    "type(a)"
   ]
  },
  {
   "cell_type": "code",
   "execution_count": 33,
   "id": "0250f498",
   "metadata": {},
   "outputs": [
    {
     "data": {
      "text/plain": [
       "str"
      ]
     },
     "execution_count": 33,
     "metadata": {},
     "output_type": "execute_result"
    }
   ],
   "source": [
    "a = \"flase\"\n",
    "\n",
    "type(a)"
   ]
  },
  {
   "cell_type": "code",
   "execution_count": 38,
   "id": "a4f273e9",
   "metadata": {},
   "outputs": [
    {
     "ename": "NameError",
     "evalue": "name 'TRUE' is not defined",
     "output_type": "error",
     "traceback": [
      "\u001b[1;31m---------------------------------------------------------------------------\u001b[0m",
      "\u001b[1;31mNameError\u001b[0m                                 Traceback (most recent call last)",
      "\u001b[1;32m<ipython-input-38-a445bf43c6f7>\u001b[0m in \u001b[0;36m<module>\u001b[1;34m\u001b[0m\n\u001b[1;32m----> 1\u001b[1;33m \u001b[0mb\u001b[0m \u001b[1;33m=\u001b[0m \u001b[0mTRUE\u001b[0m\u001b[1;33m\u001b[0m\u001b[1;33m\u001b[0m\u001b[0m\n\u001b[0m\u001b[0;32m      2\u001b[0m \u001b[1;33m\u001b[0m\u001b[0m\n\u001b[0;32m      3\u001b[0m \u001b[0mtype\u001b[0m\u001b[1;33m(\u001b[0m\u001b[0mb\u001b[0m\u001b[1;33m)\u001b[0m\u001b[1;33m\u001b[0m\u001b[1;33m\u001b[0m\u001b[0m\n",
      "\u001b[1;31mNameError\u001b[0m: name 'TRUE' is not defined"
     ]
    }
   ],
   "source": [
    "b = TRUE\n",
    "\n"
   ]
  },
  {
   "cell_type": "code",
   "execution_count": 39,
   "id": "e28c2575",
   "metadata": {},
   "outputs": [
    {
     "data": {
      "text/plain": [
       "int"
      ]
     },
     "execution_count": 39,
     "metadata": {},
     "output_type": "execute_result"
    }
   ],
   "source": [
    "type(b)"
   ]
  },
  {
   "cell_type": "markdown",
   "id": "dd93923d",
   "metadata": {},
   "source": []
  },
  {
   "cell_type": "code",
   "execution_count": null,
   "id": "9d672881",
   "metadata": {},
   "outputs": [],
   "source": [
    "a = true"
   ]
  },
  {
   "cell_type": "code",
   "execution_count": 40,
   "id": "aa3b7a05",
   "metadata": {},
   "outputs": [
    {
     "data": {
      "text/plain": [
       "str"
      ]
     },
     "execution_count": 40,
     "metadata": {},
     "output_type": "execute_result"
    }
   ],
   "source": [
    "type(a)"
   ]
  },
  {
   "cell_type": "code",
   "execution_count": 41,
   "id": "7260c597",
   "metadata": {},
   "outputs": [],
   "source": [
    "_a = 5"
   ]
  },
  {
   "cell_type": "code",
   "execution_count": 43,
   "id": "bf6794e1",
   "metadata": {},
   "outputs": [],
   "source": [
    "_k = 3"
   ]
  },
  {
   "cell_type": "markdown",
   "id": "a6b35cab",
   "metadata": {},
   "source": [
    "###### DATA IS THE KING"
   ]
  },
  {
   "cell_type": "code",
   "execution_count": 2,
   "id": "89081f24",
   "metadata": {},
   "outputs": [
    {
     "name": "stdout",
     "output_type": "stream",
     "text": [
      "awsome\n"
     ]
    }
   ],
   "source": [
    "x = \"awsome\"\n",
    "\n",
    "print(x)"
   ]
  },
  {
   "cell_type": "code",
   "execution_count": 4,
   "id": "9f4930d1",
   "metadata": {},
   "outputs": [
    {
     "name": "stdout",
     "output_type": "stream",
     "text": [
      "python isawsome\n"
     ]
    }
   ],
   "source": [
    "print(\"python is\" +  x)"
   ]
  },
  {
   "cell_type": "code",
   "execution_count": 6,
   "id": "53279544",
   "metadata": {},
   "outputs": [
    {
     "name": "stdout",
     "output_type": "stream",
     "text": [
      "jos3\n"
     ]
    }
   ],
   "source": [
    "print(\"jos\" + '3')"
   ]
  },
  {
   "cell_type": "markdown",
   "id": "cf022894",
   "metadata": {},
   "source": [
    "# new start"
   ]
  },
  {
   "cell_type": "code",
   "execution_count": 7,
   "id": "1df2a111",
   "metadata": {},
   "outputs": [
    {
     "name": "stdout",
     "output_type": "stream",
     "text": [
      "20\n"
     ]
    }
   ],
   "source": [
    "a = 5\n",
    "b = 15\n",
    "\n",
    "print(a+b)\n"
   ]
  },
  {
   "cell_type": "code",
   "execution_count": 13,
   "id": "ac65d055",
   "metadata": {},
   "outputs": [
    {
     "name": "stdout",
     "output_type": "stream",
     "text": [
      "15\n"
     ]
    }
   ],
   "source": [
    "x= 4\n",
    "y= 5\n",
    "\n",
    "def myfunc():\n",
    "    x = 10\n",
    "    print(x+5)  \n",
    "    \n",
    "myfunc()    "
   ]
  },
  {
   "cell_type": "code",
   "execution_count": 20,
   "id": "aa12f1de",
   "metadata": {},
   "outputs": [
    {
     "name": "stdout",
     "output_type": "stream",
     "text": [
      "123\n"
     ]
    }
   ],
   "source": [
    "x = 56\n",
    "\n",
    "def myfunc():\n",
    "    global x\n",
    "    y =67\n",
    "    print(x+y)\n",
    "    \n",
    "myfunc()   "
   ]
  },
  {
   "cell_type": "code",
   "execution_count": 27,
   "id": "00507007",
   "metadata": {},
   "outputs": [
    {
     "name": "stdout",
     "output_type": "stream",
     "text": [
      "5\n",
      "jos isx\n"
     ]
    }
   ],
   "source": [
    "\n",
    "def myfunc():\n",
    "    global x\n",
    "    x = 5\n",
    "    print(x)\n",
    " \n",
    "myfunc()\n",
    "\n",
    "print(\"jos is\"  +  \"x\")"
   ]
  },
  {
   "cell_type": "code",
   "execution_count": 30,
   "id": "cc05648b",
   "metadata": {},
   "outputs": [
    {
     "name": "stdout",
     "output_type": "stream",
     "text": [
      "jos6\n"
     ]
    }
   ],
   "source": [
    "x = \"6\"\n",
    "\n",
    "print(\"jos\" + x)"
   ]
  },
  {
   "cell_type": "code",
   "execution_count": 37,
   "id": "7aae1946",
   "metadata": {},
   "outputs": [],
   "source": [
    "name = \"joy\"\n",
    "name1 = 56"
   ]
  },
  {
   "cell_type": "code",
   "execution_count": 38,
   "id": "5e856a17",
   "metadata": {},
   "outputs": [],
   "source": [
    "name2 = 5.3"
   ]
  },
  {
   "cell_type": "code",
   "execution_count": 40,
   "id": "e4650ff8",
   "metadata": {},
   "outputs": [],
   "source": [
    "name3 = \"TRUE\""
   ]
  },
  {
   "cell_type": "code",
   "execution_count": 41,
   "id": "334171eb",
   "metadata": {},
   "outputs": [
    {
     "data": {
      "text/plain": [
       "str"
      ]
     },
     "execution_count": 41,
     "metadata": {},
     "output_type": "execute_result"
    }
   ],
   "source": [
    "type(name)"
   ]
  },
  {
   "cell_type": "code",
   "execution_count": 42,
   "id": "df7913af",
   "metadata": {},
   "outputs": [
    {
     "data": {
      "text/plain": [
       "str"
      ]
     },
     "execution_count": 42,
     "metadata": {},
     "output_type": "execute_result"
    }
   ],
   "source": [
    "type(name3)"
   ]
  },
  {
   "cell_type": "code",
   "execution_count": 44,
   "id": "48c9a047",
   "metadata": {},
   "outputs": [
    {
     "data": {
      "text/plain": [
       "float"
      ]
     },
     "execution_count": 44,
     "metadata": {},
     "output_type": "execute_result"
    }
   ],
   "source": [
    "type(name2)"
   ]
  },
  {
   "cell_type": "code",
   "execution_count": 46,
   "id": "b0222c0b",
   "metadata": {},
   "outputs": [
    {
     "data": {
      "text/plain": [
       "str"
      ]
     },
     "execution_count": 46,
     "metadata": {},
     "output_type": "execute_result"
    }
   ],
   "source": [
    "type(\"str\")"
   ]
  },
  {
   "cell_type": "markdown",
   "id": "d41d15b3",
   "metadata": {},
   "source": []
  },
  {
   "cell_type": "code",
   "execution_count": 49,
   "id": "d0e311ae",
   "metadata": {},
   "outputs": [],
   "source": [
    "x = \"strings\""
   ]
  },
  {
   "cell_type": "code",
   "execution_count": 50,
   "id": "adeaf2d6",
   "metadata": {},
   "outputs": [
    {
     "name": "stdout",
     "output_type": "stream",
     "text": [
      "<class 'str'>\n"
     ]
    }
   ],
   "source": [
    "print(type(x))"
   ]
  },
  {
   "cell_type": "code",
   "execution_count": 58,
   "id": "a10f2f31",
   "metadata": {},
   "outputs": [
    {
     "name": "stdout",
     "output_type": "stream",
     "text": [
      "<class 'complex'>\n"
     ]
    }
   ],
   "source": [
    "y = 45j\n",
    "\n",
    "print(type(y))"
   ]
  },
  {
   "cell_type": "code",
   "execution_count": 59,
   "id": "591d034e",
   "metadata": {},
   "outputs": [
    {
     "name": "stdout",
     "output_type": "stream",
     "text": [
      "tuple\n"
     ]
    }
   ],
   "source": [
    "print(\"tuple\")"
   ]
  },
  {
   "cell_type": "code",
   "execution_count": 60,
   "id": "c361c10a",
   "metadata": {},
   "outputs": [],
   "source": [
    "z = range(45,89)"
   ]
  },
  {
   "cell_type": "code",
   "execution_count": 62,
   "id": "9cf54d3f",
   "metadata": {},
   "outputs": [
    {
     "name": "stdout",
     "output_type": "stream",
     "text": [
      "range(0, 89)\n"
     ]
    }
   ],
   "source": [
    "print(z)"
   ]
  },
  {
   "cell_type": "code",
   "execution_count": 63,
   "id": "c1901b30",
   "metadata": {},
   "outputs": [
    {
     "data": {
      "text/plain": [
       "range"
      ]
     },
     "execution_count": 63,
     "metadata": {},
     "output_type": "execute_result"
    }
   ],
   "source": [
    "type(z)"
   ]
  },
  {
   "cell_type": "code",
   "execution_count": 64,
   "id": "e0de1a91",
   "metadata": {},
   "outputs": [
    {
     "name": "stdout",
     "output_type": "stream",
     "text": [
      "True\n"
     ]
    }
   ],
   "source": [
    "q = True\n",
    "\n",
    "print(q)"
   ]
  },
  {
   "cell_type": "code",
   "execution_count": 65,
   "id": "b7ed2854",
   "metadata": {},
   "outputs": [
    {
     "data": {
      "text/plain": [
       "bool"
      ]
     },
     "execution_count": 65,
     "metadata": {},
     "output_type": "execute_result"
    }
   ],
   "source": [
    "type(q)"
   ]
  },
  {
   "cell_type": "markdown",
   "id": "cb806933",
   "metadata": {},
   "source": []
  },
  {
   "cell_type": "code",
   "execution_count": 69,
   "id": "71823030",
   "metadata": {},
   "outputs": [
    {
     "name": "stdout",
     "output_type": "stream",
     "text": [
      "frozenset({'cherry', 'graps', 'apple'})\n"
     ]
    }
   ],
   "source": [
    "x = frozenset((\"apple\", \"cherry\", \"graps\"))\n",
    "\n",
    "print(x)"
   ]
  },
  {
   "cell_type": "code",
   "execution_count": 76,
   "id": "1637e946",
   "metadata": {},
   "outputs": [
    {
     "name": "stdout",
     "output_type": "stream",
     "text": [
      "8\n"
     ]
    }
   ],
   "source": [
    "x = 56\n",
    "y = 8 \n",
    "z = 78\n",
    "\n",
    "def myfunc():\n",
    "    a = -78\n",
    "    print(y + z + a)\n",
    "    \n",
    "myfunc()   \n"
   ]
  },
  {
   "cell_type": "markdown",
   "id": "fa4fb97d",
   "metadata": {},
   "source": [
    "# new part"
   ]
  },
  {
   "cell_type": "code",
   "execution_count": 1,
   "id": "63219536",
   "metadata": {},
   "outputs": [
    {
     "name": "stdout",
     "output_type": "stream",
     "text": [
      "56.0\n"
     ]
    }
   ],
   "source": [
    "x = 56\n",
    "\n",
    "a = float(x)\n",
    "\n",
    "print(a)"
   ]
  },
  {
   "cell_type": "code",
   "execution_count": 2,
   "id": "8233fdd7",
   "metadata": {},
   "outputs": [
    {
     "name": "stdout",
     "output_type": "stream",
     "text": [
      "<class 'float'>\n"
     ]
    }
   ],
   "source": [
    "print(type(a))"
   ]
  },
  {
   "cell_type": "code",
   "execution_count": 3,
   "id": "8605b6b5",
   "metadata": {},
   "outputs": [
    {
     "data": {
      "text/plain": [
       "int"
      ]
     },
     "execution_count": 3,
     "metadata": {},
     "output_type": "execute_result"
    }
   ],
   "source": [
    "type(x)"
   ]
  },
  {
   "cell_type": "code",
   "execution_count": 4,
   "id": "5180a7d4",
   "metadata": {},
   "outputs": [],
   "source": [
    "b = complex(x)"
   ]
  },
  {
   "cell_type": "code",
   "execution_count": 5,
   "id": "11b5f915",
   "metadata": {},
   "outputs": [
    {
     "name": "stdout",
     "output_type": "stream",
     "text": [
      "(56+0j)\n"
     ]
    }
   ],
   "source": [
    "print(b)"
   ]
  },
  {
   "cell_type": "code",
   "execution_count": 6,
   "id": "efb340b0",
   "metadata": {},
   "outputs": [
    {
     "ename": "TypeError",
     "evalue": "can't convert complex to int",
     "output_type": "error",
     "traceback": [
      "\u001b[1;31m---------------------------------------------------------------------------\u001b[0m",
      "\u001b[1;31mTypeError\u001b[0m                                 Traceback (most recent call last)",
      "\u001b[1;32m<ipython-input-6-2de570fcdcde>\u001b[0m in \u001b[0;36m<module>\u001b[1;34m\u001b[0m\n\u001b[1;32m----> 1\u001b[1;33m \u001b[0mc\u001b[0m \u001b[1;33m=\u001b[0m \u001b[0mint\u001b[0m\u001b[1;33m(\u001b[0m\u001b[0mb\u001b[0m\u001b[1;33m)\u001b[0m\u001b[1;33m\u001b[0m\u001b[1;33m\u001b[0m\u001b[0m\n\u001b[0m\u001b[0;32m      2\u001b[0m \u001b[1;33m\u001b[0m\u001b[0m\n\u001b[0;32m      3\u001b[0m \u001b[0mprint\u001b[0m\u001b[1;33m(\u001b[0m\u001b[0mc\u001b[0m\u001b[1;33m)\u001b[0m\u001b[1;33m\u001b[0m\u001b[1;33m\u001b[0m\u001b[0m\n",
      "\u001b[1;31mTypeError\u001b[0m: can't convert complex to int"
     ]
    }
   ],
   "source": [
    "c = int(b)\n",
    "\n",
    "print(c)"
   ]
  },
  {
   "cell_type": "code",
   "execution_count": 7,
   "id": "5b4c3646",
   "metadata": {},
   "outputs": [
    {
     "ename": "NameError",
     "evalue": "name 'c' is not defined",
     "output_type": "error",
     "traceback": [
      "\u001b[1;31m---------------------------------------------------------------------------\u001b[0m",
      "\u001b[1;31mNameError\u001b[0m                                 Traceback (most recent call last)",
      "\u001b[1;32m<ipython-input-7-0acc8143872c>\u001b[0m in \u001b[0;36m<module>\u001b[1;34m\u001b[0m\n\u001b[1;32m----> 1\u001b[1;33m \u001b[0mtype\u001b[0m\u001b[1;33m(\u001b[0m\u001b[0mc\u001b[0m\u001b[1;33m)\u001b[0m\u001b[1;33m\u001b[0m\u001b[1;33m\u001b[0m\u001b[0m\n\u001b[0m",
      "\u001b[1;31mNameError\u001b[0m: name 'c' is not defined"
     ]
    }
   ],
   "source": [
    "type(c)"
   ]
  },
  {
   "cell_type": "code",
   "execution_count": 8,
   "id": "62b26cde",
   "metadata": {},
   "outputs": [
    {
     "name": "stdout",
     "output_type": "stream",
     "text": [
      "(56+0j)\n"
     ]
    }
   ],
   "source": [
    "print(b)"
   ]
  },
  {
   "cell_type": "code",
   "execution_count": 10,
   "id": "ba7183e0",
   "metadata": {},
   "outputs": [
    {
     "ename": "NameError",
     "evalue": "name 'randrange' is not defined",
     "output_type": "error",
     "traceback": [
      "\u001b[1;31m---------------------------------------------------------------------------\u001b[0m",
      "\u001b[1;31mNameError\u001b[0m                                 Traceback (most recent call last)",
      "\u001b[1;32m<ipython-input-10-9ac05d450ff8>\u001b[0m in \u001b[0;36m<module>\u001b[1;34m\u001b[0m\n\u001b[0;32m      1\u001b[0m \u001b[1;32mimport\u001b[0m \u001b[0mrandom\u001b[0m\u001b[1;33m\u001b[0m\u001b[1;33m\u001b[0m\u001b[0m\n\u001b[0;32m      2\u001b[0m \u001b[1;33m\u001b[0m\u001b[0m\n\u001b[1;32m----> 3\u001b[1;33m \u001b[0mprint\u001b[0m\u001b[1;33m(\u001b[0m\u001b[0mrandom\u001b[0m\u001b[1;33m,\u001b[0m\u001b[0mrandrange\u001b[0m\u001b[1;33m(\u001b[0m\u001b[1;36m0\u001b[0m\u001b[1;33m,\u001b[0m\u001b[1;36m100\u001b[0m\u001b[1;33m)\u001b[0m\u001b[1;33m)\u001b[0m\u001b[1;33m\u001b[0m\u001b[1;33m\u001b[0m\u001b[0m\n\u001b[0m",
      "\u001b[1;31mNameError\u001b[0m: name 'randrange' is not defined"
     ]
    }
   ],
   "source": [
    "import random\n",
    "\n",
    "print(random,randrange(0,100))"
   ]
  },
  {
   "cell_type": "code",
   "execution_count": 12,
   "id": "c1c2e2f2",
   "metadata": {},
   "outputs": [
    {
     "data": {
      "text/plain": [
       "range(0, 23)"
      ]
     },
     "execution_count": 12,
     "metadata": {},
     "output_type": "execute_result"
    }
   ],
   "source": [
    "range(23)\n"
   ]
  },
  {
   "cell_type": "code",
   "execution_count": 20,
   "id": "22a8d36d",
   "metadata": {},
   "outputs": [
    {
     "name": "stdout",
     "output_type": "stream",
     "text": [
      "('n', 'a', 'm', 'e')\n"
     ]
    }
   ],
   "source": [
    "print(tuple(\"name\"))\n"
   ]
  },
  {
   "cell_type": "code",
   "execution_count": 21,
   "id": "814672c2",
   "metadata": {},
   "outputs": [
    {
     "data": {
      "text/plain": [
       "range(0, 78)"
      ]
     },
     "execution_count": 21,
     "metadata": {},
     "output_type": "execute_result"
    }
   ],
   "source": [
    "range(78)"
   ]
  },
  {
   "cell_type": "code",
   "execution_count": 25,
   "id": "9f902c43",
   "metadata": {},
   "outputs": [
    {
     "name": "stdout",
     "output_type": "stream",
     "text": [
      "78\n"
     ]
    }
   ],
   "source": [
    "x, y, z = [78,45,45]\n",
    "\n",
    "print(x)"
   ]
  },
  {
   "cell_type": "code",
   "execution_count": 29,
   "id": "66d15f92",
   "metadata": {},
   "outputs": [
    {
     "name": "stdout",
     "output_type": "stream",
     "text": [
      "range(0, 78)\n"
     ]
    }
   ],
   "source": [
    "\n",
    "\n",
    "print(range(78))"
   ]
  },
  {
   "cell_type": "code",
   "execution_count": 30,
   "id": "1f0e9ea2",
   "metadata": {},
   "outputs": [
    {
     "data": {
      "text/plain": [
       "5"
      ]
     },
     "execution_count": 30,
     "metadata": {},
     "output_type": "execute_result"
    }
   ],
   "source": [
    "int(\"5\")"
   ]
  },
  {
   "cell_type": "code",
   "execution_count": 35,
   "id": "afbd592a",
   "metadata": {},
   "outputs": [
    {
     "data": {
      "text/plain": [
       "'5.6'"
      ]
     },
     "execution_count": 35,
     "metadata": {},
     "output_type": "execute_result"
    }
   ],
   "source": [
    "str(\"5.6\")"
   ]
  },
  {
   "cell_type": "code",
   "execution_count": 36,
   "id": "7e6d61c9",
   "metadata": {},
   "outputs": [
    {
     "data": {
      "text/plain": [
       "45.0"
      ]
     },
     "execution_count": 36,
     "metadata": {},
     "output_type": "execute_result"
    }
   ],
   "source": [
    "float(\"45\")"
   ]
  },
  {
   "cell_type": "code",
   "execution_count": 37,
   "id": "34e3e64c",
   "metadata": {},
   "outputs": [
    {
     "data": {
      "text/plain": [
       "5"
      ]
     },
     "execution_count": 37,
     "metadata": {},
     "output_type": "execute_result"
    }
   ],
   "source": [
    "int(5.3)"
   ]
  },
  {
   "cell_type": "code",
   "execution_count": 38,
   "id": "275390bc",
   "metadata": {},
   "outputs": [
    {
     "data": {
      "text/plain": [
       "'565.5'"
      ]
     },
     "execution_count": 38,
     "metadata": {},
     "output_type": "execute_result"
    }
   ],
   "source": [
    "str(\"565.5\")"
   ]
  },
  {
   "cell_type": "code",
   "execution_count": 40,
   "id": "cc6f09eb",
   "metadata": {},
   "outputs": [
    {
     "data": {
      "text/plain": [
       "45"
      ]
     },
     "execution_count": 40,
     "metadata": {},
     "output_type": "execute_result"
    }
   ],
   "source": [
    "int(45.6)\n"
   ]
  },
  {
   "cell_type": "code",
   "execution_count": 42,
   "id": "0801423c",
   "metadata": {},
   "outputs": [],
   "source": [
    "x = 45\n",
    "\n",
    "y = float(x)"
   ]
  },
  {
   "cell_type": "code",
   "execution_count": 43,
   "id": "e4b58154",
   "metadata": {},
   "outputs": [
    {
     "name": "stdout",
     "output_type": "stream",
     "text": [
      "45.0\n"
     ]
    }
   ],
   "source": [
    "print(y)"
   ]
  },
  {
   "cell_type": "code",
   "execution_count": 44,
   "id": "16a1dbbe",
   "metadata": {},
   "outputs": [
    {
     "name": "stdout",
     "output_type": "stream",
     "text": [
      "789\n"
     ]
    }
   ],
   "source": [
    "x=y=z=789\n",
    "\n",
    "print(y)"
   ]
  },
  {
   "cell_type": "code",
   "execution_count": 46,
   "id": "25ebf577",
   "metadata": {},
   "outputs": [
    {
     "name": "stdout",
     "output_type": "stream",
     "text": [
      "62\n"
     ]
    },
    {
     "data": {
      "text/plain": [
       "NoneType"
      ]
     },
     "execution_count": 46,
     "metadata": {},
     "output_type": "execute_result"
    }
   ],
   "source": [
    "import random as rand\n",
    "\n",
    "print(random.randrange(78))"
   ]
  },
  {
   "cell_type": "code",
   "execution_count": 47,
   "id": "6aa57c64",
   "metadata": {},
   "outputs": [
    {
     "name": "stdout",
     "output_type": "stream",
     "text": [
      "948\n"
     ]
    }
   ],
   "source": [
    "print(random.randrange(100,1000))"
   ]
  },
  {
   "cell_type": "code",
   "execution_count": 48,
   "id": "4b1b44a0",
   "metadata": {},
   "outputs": [
    {
     "name": "stdout",
     "output_type": "stream",
     "text": [
      "good or bad\n"
     ]
    }
   ],
   "source": [
    "x = 'good or bad'\n",
    "\n",
    "print(x)"
   ]
  },
  {
   "cell_type": "code",
   "execution_count": 49,
   "id": "f2e7bc27",
   "metadata": {},
   "outputs": [
    {
     "name": "stdout",
     "output_type": "stream",
     "text": [
      "72\n"
     ]
    }
   ],
   "source": [
    "x = 8*9\n",
    "\n",
    "y = x\n",
    "\n",
    "print(y)"
   ]
  },
  {
   "cell_type": "code",
   "execution_count": 50,
   "id": "6af17e1e",
   "metadata": {},
   "outputs": [
    {
     "name": "stdout",
     "output_type": "stream",
     "text": [
      "117\n"
     ]
    }
   ],
   "source": [
    "print(x + 45)"
   ]
  },
  {
   "cell_type": "code",
   "execution_count": 53,
   "id": "5c437376",
   "metadata": {},
   "outputs": [
    {
     "name": "stdout",
     "output_type": "stream",
     "text": [
      "72\n"
     ]
    }
   ],
   "source": [
    "print(y)\n",
    "\n"
   ]
  },
  {
   "cell_type": "code",
   "execution_count": 54,
   "id": "d2cdf510",
   "metadata": {},
   "outputs": [
    {
     "data": {
      "text/plain": [
       "0.6446280991735537"
      ]
     },
     "execution_count": 54,
     "metadata": {},
     "output_type": "execute_result"
    }
   ],
   "source": [
    "78 /121"
   ]
  },
  {
   "cell_type": "code",
   "execution_count": 55,
   "id": "65cafaf2",
   "metadata": {},
   "outputs": [
    {
     "data": {
      "text/plain": [
       "1"
      ]
     },
     "execution_count": 55,
     "metadata": {},
     "output_type": "execute_result"
    }
   ],
   "source": [
    "78 // 54"
   ]
  },
  {
   "cell_type": "code",
   "execution_count": 56,
   "id": "cbe9d880",
   "metadata": {},
   "outputs": [
    {
     "data": {
      "text/plain": [
       "49"
      ]
     },
     "execution_count": 56,
     "metadata": {},
     "output_type": "execute_result"
    }
   ],
   "source": [
    "7 ** 2"
   ]
  },
  {
   "cell_type": "code",
   "execution_count": 57,
   "id": "5a06e7c9",
   "metadata": {},
   "outputs": [
    {
     "data": {
      "text/plain": [
       "156"
      ]
     },
     "execution_count": 57,
     "metadata": {},
     "output_type": "execute_result"
    }
   ],
   "source": [
    "78 * 2"
   ]
  },
  {
   "cell_type": "code",
   "execution_count": 58,
   "id": "817cc0ca",
   "metadata": {},
   "outputs": [
    {
     "data": {
      "text/plain": [
       "33"
      ]
     },
     "execution_count": 58,
     "metadata": {},
     "output_type": "execute_result"
    }
   ],
   "source": [
    "78 % 45"
   ]
  },
  {
   "cell_type": "code",
   "execution_count": 59,
   "id": "6a930b8d",
   "metadata": {},
   "outputs": [
    {
     "data": {
      "text/plain": [
       "range(0, 700)"
      ]
     },
     "execution_count": 59,
     "metadata": {},
     "output_type": "execute_result"
    }
   ],
   "source": [
    "range(700)"
   ]
  },
  {
   "cell_type": "code",
   "execution_count": 62,
   "id": "c5441b25",
   "metadata": {},
   "outputs": [
    {
     "ename": "SyntaxError",
     "evalue": "invalid syntax (<ipython-input-62-8aad353a8104>, line 1)",
     "output_type": "error",
     "traceback": [
      "\u001b[1;36m  File \u001b[1;32m\"<ipython-input-62-8aad353a8104>\"\u001b[1;36m, line \u001b[1;32m1\u001b[0m\n\u001b[1;33m    list[78l48]\u001b[0m\n\u001b[1;37m           ^\u001b[0m\n\u001b[1;31mSyntaxError\u001b[0m\u001b[1;31m:\u001b[0m invalid syntax\n"
     ]
    }
   ],
   "source": [
    "list[78l48]"
   ]
  },
  {
   "cell_type": "markdown",
   "id": "c3641d46",
   "metadata": {},
   "source": [
    "# strings concepts\n"
   ]
  },
  {
   "cell_type": "code",
   "execution_count": 1,
   "id": "aeb5d345",
   "metadata": {},
   "outputs": [
    {
     "name": "stdout",
     "output_type": "stream",
     "text": [
      "o\n"
     ]
    }
   ],
   "source": [
    "a = 'hello world!'\n",
    "\n",
    "print(a[4])"
   ]
  },
  {
   "cell_type": "code",
   "execution_count": 44,
   "id": "9e4e39ac",
   "metadata": {},
   "outputs": [
    {
     "name": "stdout",
     "output_type": "stream",
     "text": [
      "a\n",
      "p\n",
      "p\n",
      "l\n",
      "e\n"
     ]
    }
   ],
   "source": [
    "for x in \"apple\" :\n",
    "    \n",
    "      print(x)"
   ]
  },
  {
   "cell_type": "code",
   "execution_count": 7,
   "id": "6cf652c7",
   "metadata": {},
   "outputs": [
    {
     "name": "stdout",
     "output_type": "stream",
     "text": [
      "g\n",
      "r\n",
      "e\n",
      "a\n",
      "t\n"
     ]
    }
   ],
   "source": [
    "for a in \"great\":\n",
    "    print(a)"
   ]
  },
  {
   "cell_type": "code",
   "execution_count": 9,
   "id": "ce57b592",
   "metadata": {},
   "outputs": [
    {
     "name": "stdout",
     "output_type": "stream",
     "text": [
      "5\n"
     ]
    }
   ],
   "source": [
    "y = \"hello\"\n",
    "\n",
    "print(len(y))"
   ]
  },
  {
   "cell_type": "code",
   "execution_count": 36,
   "id": "0ac5386d",
   "metadata": {},
   "outputs": [
    {
     "name": "stdout",
     "output_type": "stream",
     "text": [
      "True\n"
     ]
    }
   ],
   "source": [
    "z ='world is free to live'\n",
    "\n",
    "print(\"free\"  in z)\n"
   ]
  },
  {
   "cell_type": "code",
   "execution_count": 39,
   "id": "dd76b808",
   "metadata": {},
   "outputs": [
    {
     "name": "stdout",
     "output_type": "stream",
     "text": [
      "yes, it's there\n"
     ]
    }
   ],
   "source": [
    "if \"free\"  in z:\n",
    "    print(\"yes, it's there\")"
   ]
  },
  {
   "cell_type": "code",
   "execution_count": 14,
   "id": "961a5b29",
   "metadata": {},
   "outputs": [
    {
     "name": "stdout",
     "output_type": "stream",
     "text": [
      "True\n"
     ]
    }
   ],
   "source": [
    "print(\"best\" not in z)"
   ]
  },
  {
   "cell_type": "code",
   "execution_count": 15,
   "id": "d33124fc",
   "metadata": {},
   "outputs": [
    {
     "name": "stdout",
     "output_type": "stream",
     "text": [
      "no, its not there\n"
     ]
    }
   ],
   "source": [
    "if \"best\" not in z:\n",
    "    print(\"no, its not there\")"
   ]
  },
  {
   "cell_type": "code",
   "execution_count": 21,
   "id": "8e590185",
   "metadata": {},
   "outputs": [
    {
     "name": "stdout",
     "output_type": "stream",
     "text": [
      "w\n",
      "o\n",
      "r\n",
      "l\n",
      "d\n",
      " \n",
      "i\n",
      "s\n",
      " \n",
      "f\n",
      "r\n",
      "e\n",
      "e\n",
      " \n",
      "t\n",
      "o\n",
      " \n",
      "l\n",
      "i\n",
      "v\n",
      "e\n"
     ]
    }
   ],
   "source": [
    "for y in 'world is free to live':\n",
    "      print(y)"
   ]
  },
  {
   "cell_type": "code",
   "execution_count": 25,
   "id": "6c7f843c",
   "metadata": {},
   "outputs": [
    {
     "name": "stdout",
     "output_type": "stream",
     "text": [
      "orld\n"
     ]
    }
   ],
   "source": [
    "print(z[1:5])"
   ]
  },
  {
   "cell_type": "code",
   "execution_count": 29,
   "id": "b3e8f7a9",
   "metadata": {},
   "outputs": [
    {
     "name": "stdout",
     "output_type": "stream",
     "text": [
      " is free to live\n"
     ]
    }
   ],
   "source": [
    "print(z[5:])"
   ]
  },
  {
   "cell_type": "code",
   "execution_count": 34,
   "id": "43fb8711",
   "metadata": {},
   "outputs": [
    {
     "name": "stdout",
     "output_type": "stream",
     "text": [
      "to l\n"
     ]
    }
   ],
   "source": [
    "print(z[-7:-3])"
   ]
  },
  {
   "cell_type": "code",
   "execution_count": 40,
   "id": "8a51ffb3",
   "metadata": {},
   "outputs": [
    {
     "name": "stdout",
     "output_type": "stream",
     "text": [
      "WORLD IS FREE TO LIVE\n"
     ]
    }
   ],
   "source": [
    "print(z.upper())"
   ]
  },
  {
   "cell_type": "code",
   "execution_count": 41,
   "id": "bfd80dac",
   "metadata": {},
   "outputs": [
    {
     "name": "stdout",
     "output_type": "stream",
     "text": [
      "world is free to live\n"
     ]
    }
   ],
   "source": [
    "print(z.lower())"
   ]
  },
  {
   "cell_type": "code",
   "execution_count": 42,
   "id": "1de6618a",
   "metadata": {},
   "outputs": [
    {
     "name": "stdout",
     "output_type": "stream",
     "text": [
      "world is free to live\n"
     ]
    }
   ],
   "source": [
    "print(z.strip())"
   ]
  },
  {
   "cell_type": "code",
   "execution_count": 43,
   "id": "a59d40d0",
   "metadata": {},
   "outputs": [
    {
     "name": "stdout",
     "output_type": "stream",
     "text": [
      "world is costly to live\n"
     ]
    }
   ],
   "source": [
    "print(z.replace(\"free\",\"costly\"))"
   ]
  },
  {
   "cell_type": "code",
   "execution_count": 44,
   "id": "cc81f7f7",
   "metadata": {},
   "outputs": [
    {
     "name": "stdout",
     "output_type": "stream",
     "text": [
      "['world', 'is', 'free', 'to', 'live']\n"
     ]
    }
   ],
   "source": [
    "print(z.split(\" \"))"
   ]
  },
  {
   "cell_type": "code",
   "execution_count": 45,
   "id": "ec334aaa",
   "metadata": {},
   "outputs": [
    {
     "name": "stdout",
     "output_type": "stream",
     "text": [
      "['world', 'is', 'free', 'to', 'live']\n"
     ]
    }
   ],
   "source": [
    "b = z.split(\" \")\n",
    "print(b)"
   ]
  },
  {
   "cell_type": "markdown",
   "id": "39d665ed",
   "metadata": {},
   "source": [
    "# concatenation\n"
   ]
  },
  {
   "cell_type": "code",
   "execution_count": 55,
   "id": "bdaf20b8",
   "metadata": {},
   "outputs": [
    {
     "name": "stdout",
     "output_type": "stream",
     "text": [
      "hello you are\n"
     ]
    }
   ],
   "source": [
    "a = \"hello\"\n",
    "b = \"you\"\n",
    "c = \"are\"\n",
    "\n",
    "d = a + \" \" + b + \" \" + c\n",
    "print(d)"
   ]
  },
  {
   "cell_type": "code",
   "execution_count": 58,
   "id": "b1035819",
   "metadata": {},
   "outputs": [
    {
     "name": "stdout",
     "output_type": "stream",
     "text": [
      "hello you are\n"
     ]
    }
   ],
   "source": [
    "print(a + \" \" + b + \" \" + c)"
   ]
  },
  {
   "cell_type": "code",
   "execution_count": 65,
   "id": "11e207b0",
   "metadata": {},
   "outputs": [
    {
     "name": "stdout",
     "output_type": "stream",
     "text": [
      "hello you are 25\n"
     ]
    }
   ],
   "source": [
    "b = \"hello you are {0}\"\n",
    "\n",
    "print(b.format(25,24))\n"
   ]
  },
  {
   "cell_type": "code",
   "execution_count": 68,
   "id": "1f3779d9",
   "metadata": {},
   "outputs": [],
   "source": [
    "txt = \"you are the \\\"gretest\\\" in the world\""
   ]
  },
  {
   "cell_type": "markdown",
   "id": "b3ab2338",
   "metadata": {},
   "source": []
  },
  {
   "cell_type": "code",
   "execution_count": 69,
   "id": "20c7856b",
   "metadata": {},
   "outputs": [
    {
     "name": "stdout",
     "output_type": "stream",
     "text": [
      "you are the \"gretest\" in the world\n"
     ]
    }
   ],
   "source": [
    "print(txt)"
   ]
  },
  {
   "cell_type": "code",
   "execution_count": 70,
   "id": "b90a718c",
   "metadata": {},
   "outputs": [],
   "source": [
    "txt = \"you are one\\n and they are two {}\""
   ]
  },
  {
   "cell_type": "code",
   "execution_count": 71,
   "id": "2afe10ce",
   "metadata": {},
   "outputs": [
    {
     "name": "stdout",
     "output_type": "stream",
     "text": [
      "you are one\n",
      " and they are two\n"
     ]
    }
   ],
   "source": [
    "print(txt)"
   ]
  },
  {
   "cell_type": "code",
   "execution_count": 72,
   "id": "580e4cf9",
   "metadata": {},
   "outputs": [
    {
     "name": "stdout",
     "output_type": "stream",
     "text": [
      "You are one\n",
      " and they are two\n"
     ]
    }
   ],
   "source": [
    "print(txt.capitalize())"
   ]
  },
  {
   "cell_type": "code",
   "execution_count": 74,
   "id": "77a33e42",
   "metadata": {},
   "outputs": [
    {
     "name": "stdout",
     "output_type": "stream",
     "text": [
      "2\n"
     ]
    }
   ],
   "source": [
    "print(txt.count(\"are\"))"
   ]
  },
  {
   "cell_type": "code",
   "execution_count": 79,
   "id": "27e3b146",
   "metadata": {},
   "outputs": [
    {
     "name": "stdout",
     "output_type": "stream",
     "text": [
      "you are one\n",
      " and they are two\n"
     ]
    }
   ],
   "source": [
    "print(txt.center(0))"
   ]
  },
  {
   "cell_type": "code",
   "execution_count": 80,
   "id": "536e324a",
   "metadata": {},
   "outputs": [
    {
     "name": "stdout",
     "output_type": "stream",
     "text": [
      "b'you are one\\n and they are two'\n"
     ]
    }
   ],
   "source": [
    "print(txt.encode())"
   ]
  },
  {
   "cell_type": "code",
   "execution_count": 85,
   "id": "135b1780",
   "metadata": {},
   "outputs": [
    {
     "name": "stdout",
     "output_type": "stream",
     "text": [
      "True\n"
     ]
    }
   ],
   "source": [
    "print(txt.endswith(\"two\"))"
   ]
  },
  {
   "cell_type": "code",
   "execution_count": 86,
   "id": "c69063eb",
   "metadata": {},
   "outputs": [
    {
     "name": "stdout",
     "output_type": "stream",
     "text": [
      "4\n"
     ]
    }
   ],
   "source": [
    "print(txt.index(\"are\"))"
   ]
  },
  {
   "cell_type": "code",
   "execution_count": 87,
   "id": "2f71ee8a",
   "metadata": {},
   "outputs": [
    {
     "name": "stdout",
     "output_type": "stream",
     "text": [
      "You Are One\n",
      " And They Are Two\n"
     ]
    }
   ],
   "source": [
    "print(txt.title())\n"
   ]
  },
  {
   "cell_type": "code",
   "execution_count": 88,
   "id": "66574055",
   "metadata": {},
   "outputs": [
    {
     "name": "stdout",
     "output_type": "stream",
     "text": [
      "YOU ARE ONE\n",
      " AND THEY ARE TWO\n"
     ]
    }
   ],
   "source": [
    "print(txt.swapcase())"
   ]
  },
  {
   "cell_type": "code",
   "execution_count": 89,
   "id": "bbebab21",
   "metadata": {},
   "outputs": [
    {
     "name": "stdout",
     "output_type": "stream",
     "text": [
      "you are one\n",
      " and they are two\n"
     ]
    }
   ],
   "source": [
    "print(txt.format(3))"
   ]
  },
  {
   "cell_type": "markdown",
   "id": "cf507622",
   "metadata": {},
   "source": [
    "# BOOLEANS"
   ]
  },
  {
   "cell_type": "code",
   "execution_count": 91,
   "id": "2cc8248b",
   "metadata": {},
   "outputs": [
    {
     "data": {
      "text/plain": [
       "True"
      ]
     },
     "execution_count": 91,
     "metadata": {},
     "output_type": "execute_result"
    }
   ],
   "source": [
    "10 > 5"
   ]
  },
  {
   "cell_type": "code",
   "execution_count": 93,
   "id": "b748a1f5",
   "metadata": {},
   "outputs": [
    {
     "name": "stdout",
     "output_type": "stream",
     "text": [
      "yes b is not greater than a\n"
     ]
    }
   ],
   "source": [
    "a = 500\n",
    "b = 400\n",
    "\n",
    "if b>a:\n",
    "    print(\"yes b grater than a\")\n",
    "else:\n",
    "    print(\"yes b is not greater than a\")\n",
    "    \n",
    "    "
   ]
  },
  {
   "cell_type": "code",
   "execution_count": 95,
   "id": "58c84618",
   "metadata": {},
   "outputs": [
    {
     "name": "stdout",
     "output_type": "stream",
     "text": [
      "True\n"
     ]
    }
   ],
   "source": [
    "a = \"hello\"\n",
    "\n",
    "print(bool(a))"
   ]
  },
  {
   "cell_type": "code",
   "execution_count": 96,
   "id": "f5d4e5f6",
   "metadata": {},
   "outputs": [
    {
     "data": {
      "text/plain": [
       "True"
      ]
     },
     "execution_count": 96,
     "metadata": {},
     "output_type": "execute_result"
    }
   ],
   "source": [
    "bool(56468)"
   ]
  },
  {
   "cell_type": "code",
   "execution_count": 99,
   "id": "496f096d",
   "metadata": {},
   "outputs": [
    {
     "data": {
      "text/plain": [
       "True"
      ]
     },
     "execution_count": 99,
     "metadata": {},
     "output_type": "execute_result"
    }
   ],
   "source": [
    "bool(\"good\")"
   ]
  },
  {
   "cell_type": "code",
   "execution_count": 100,
   "id": "65b755e9",
   "metadata": {},
   "outputs": [
    {
     "data": {
      "text/plain": [
       "True"
      ]
     },
     "execution_count": 100,
     "metadata": {},
     "output_type": "execute_result"
    }
   ],
   "source": [
    "bool([45,45,45,48])"
   ]
  },
  {
   "cell_type": "code",
   "execution_count": 102,
   "id": "f12193a2",
   "metadata": {},
   "outputs": [
    {
     "data": {
      "text/plain": [
       "False"
      ]
     },
     "execution_count": 102,
     "metadata": {},
     "output_type": "execute_result"
    }
   ],
   "source": [
    "bool([])"
   ]
  },
  {
   "cell_type": "code",
   "execution_count": 103,
   "id": "9e024450",
   "metadata": {},
   "outputs": [
    {
     "data": {
      "text/plain": [
       "False"
      ]
     },
     "execution_count": 103,
     "metadata": {},
     "output_type": "execute_result"
    }
   ],
   "source": [
    "bool(())\n"
   ]
  },
  {
   "cell_type": "code",
   "execution_count": 110,
   "id": "4a79c6f0",
   "metadata": {},
   "outputs": [
    {
     "data": {
      "text/plain": [
       "False"
      ]
     },
     "execution_count": 110,
     "metadata": {},
     "output_type": "execute_result"
    }
   ],
   "source": [
    "bool(False)"
   ]
  },
  {
   "cell_type": "code",
   "execution_count": 113,
   "id": "5773a254",
   "metadata": {},
   "outputs": [
    {
     "name": "stdout",
     "output_type": "stream",
     "text": [
      "False\n"
     ]
    }
   ],
   "source": [
    "def myfunction():\n",
    "    return False\n",
    "\n",
    "x = myfunction()\n",
    "\n",
    "print(x)"
   ]
  },
  {
   "cell_type": "code",
   "execution_count": 117,
   "id": "f149f166",
   "metadata": {},
   "outputs": [
    {
     "name": "stdout",
     "output_type": "stream",
     "text": [
      "False\n"
     ]
    }
   ],
   "source": [
    "q = 789\n",
    "\n",
    "print(isinstance(q,float))"
   ]
  },
  {
   "cell_type": "code",
   "execution_count": 118,
   "id": "29e4fbd5",
   "metadata": {},
   "outputs": [
    {
     "name": "stdout",
     "output_type": "stream",
     "text": [
      "True\n"
     ]
    }
   ],
   "source": [
    "print(100>50)"
   ]
  },
  {
   "cell_type": "code",
   "execution_count": 119,
   "id": "b5c7764f",
   "metadata": {},
   "outputs": [
    {
     "name": "stdout",
     "output_type": "stream",
     "text": [
      "0\n"
     ]
    }
   ],
   "source": [
    "print(0)"
   ]
  },
  {
   "cell_type": "code",
   "execution_count": 120,
   "id": "3cc03ed7",
   "metadata": {},
   "outputs": [
    {
     "data": {
      "text/plain": [
       "int"
      ]
     },
     "execution_count": 120,
     "metadata": {},
     "output_type": "execute_result"
    }
   ],
   "source": [
    "type(q)"
   ]
  },
  {
   "cell_type": "code",
   "execution_count": 121,
   "id": "8d04c4c6",
   "metadata": {},
   "outputs": [
    {
     "name": "stdout",
     "output_type": "stream",
     "text": [
      "<class 'int'>\n"
     ]
    }
   ],
   "source": [
    "print(type(q))"
   ]
  },
  {
   "cell_type": "markdown",
   "id": "5a8a74e6",
   "metadata": {},
   "source": [
    "# operators"
   ]
  },
  {
   "cell_type": "code",
   "execution_count": 3,
   "id": "e76ddfd2",
   "metadata": {},
   "outputs": [
    {
     "name": "stdout",
     "output_type": "stream",
     "text": [
      "33 333\n"
     ]
    }
   ],
   "source": [
    "x = \"33\"\n",
    "\n",
    "y = \"333\"\n",
    "\n",
    "print(x  +\" \"+  y)"
   ]
  },
  {
   "cell_type": "code",
   "execution_count": 4,
   "id": "cff2fc5c",
   "metadata": {},
   "outputs": [
    {
     "data": {
      "text/plain": [
       "2"
      ]
     },
     "execution_count": 4,
     "metadata": {},
     "output_type": "execute_result"
    }
   ],
   "source": [
    "30 % 4"
   ]
  },
  {
   "cell_type": "code",
   "execution_count": 5,
   "id": "902b9032",
   "metadata": {},
   "outputs": [
    {
     "data": {
      "text/plain": [
       "16"
      ]
     },
     "execution_count": 5,
     "metadata": {},
     "output_type": "execute_result"
    }
   ],
   "source": [
    "2 ** 4"
   ]
  },
  {
   "cell_type": "code",
   "execution_count": 6,
   "id": "6fc44a06",
   "metadata": {},
   "outputs": [
    {
     "data": {
      "text/plain": [
       "2025"
      ]
     },
     "execution_count": 6,
     "metadata": {},
     "output_type": "execute_result"
    }
   ],
   "source": [
    "45 **2"
   ]
  },
  {
   "cell_type": "code",
   "execution_count": 7,
   "id": "f6e4fe5c",
   "metadata": {},
   "outputs": [
    {
     "data": {
      "text/plain": [
       "529"
      ]
     },
     "execution_count": 7,
     "metadata": {},
     "output_type": "execute_result"
    }
   ],
   "source": [
    "23 ** 2"
   ]
  },
  {
   "cell_type": "code",
   "execution_count": 8,
   "id": "11b10c4d",
   "metadata": {},
   "outputs": [
    {
     "data": {
      "text/plain": [
       "7"
      ]
     },
     "execution_count": 8,
     "metadata": {},
     "output_type": "execute_result"
    }
   ],
   "source": [
    "45 //6"
   ]
  },
  {
   "cell_type": "code",
   "execution_count": 9,
   "id": "e6996b6e",
   "metadata": {},
   "outputs": [
    {
     "data": {
      "text/plain": [
       "7"
      ]
     },
     "execution_count": 9,
     "metadata": {},
     "output_type": "execute_result"
    }
   ],
   "source": [
    "5 ^ 2"
   ]
  },
  {
   "cell_type": "code",
   "execution_count": 13,
   "id": "dcb67d12",
   "metadata": {},
   "outputs": [
    {
     "name": "stdout",
     "output_type": "stream",
     "text": [
      "333333333333333333333333333333333333333333333333333333\n"
     ]
    }
   ],
   "source": [
    "x *= 3\n",
    "\n",
    "print(x)"
   ]
  },
  {
   "cell_type": "code",
   "execution_count": 19,
   "id": "388901b0",
   "metadata": {},
   "outputs": [
    {
     "data": {
      "text/plain": [
       "4"
      ]
     },
     "execution_count": 19,
     "metadata": {},
     "output_type": "execute_result"
    }
   ],
   "source": [
    "45 & 6"
   ]
  },
  {
   "cell_type": "code",
   "execution_count": 17,
   "id": "4acf9818",
   "metadata": {},
   "outputs": [
    {
     "data": {
      "text/plain": [
       "2"
      ]
     },
     "execution_count": 17,
     "metadata": {},
     "output_type": "execute_result"
    }
   ],
   "source": [
    "20 % 3"
   ]
  },
  {
   "cell_type": "code",
   "execution_count": 18,
   "id": "bb596343",
   "metadata": {},
   "outputs": [
    {
     "name": "stdout",
     "output_type": "stream",
     "text": [
      "135\n"
     ]
    }
   ],
   "source": [
    "x = 45\n",
    "\n",
    "x *=3\n",
    "\n",
    "print(x)"
   ]
  },
  {
   "cell_type": "code",
   "execution_count": 20,
   "id": "8acd9f98",
   "metadata": {},
   "outputs": [
    {
     "data": {
      "text/plain": [
       "False"
      ]
     },
     "execution_count": 20,
     "metadata": {},
     "output_type": "execute_result"
    }
   ],
   "source": [
    "x is y"
   ]
  },
  {
   "cell_type": "code",
   "execution_count": 21,
   "id": "42d65f2f",
   "metadata": {},
   "outputs": [
    {
     "data": {
      "text/plain": [
       "True"
      ]
     },
     "execution_count": 21,
     "metadata": {},
     "output_type": "execute_result"
    }
   ],
   "source": [
    "x =y\n",
    "x is y"
   ]
  },
  {
   "cell_type": "code",
   "execution_count": 24,
   "id": "21981259",
   "metadata": {},
   "outputs": [
    {
     "data": {
      "text/plain": [
       "True"
      ]
     },
     "execution_count": 24,
     "metadata": {},
     "output_type": "execute_result"
    }
   ],
   "source": [
    "5>4  and  9>8"
   ]
  },
  {
   "cell_type": "code",
   "execution_count": 30,
   "id": "4140b41f",
   "metadata": {},
   "outputs": [
    {
     "name": "stdout",
     "output_type": "stream",
     "text": [
      "yes\n"
     ]
    }
   ],
   "source": [
    "z = \"we are the one world\"\n",
    "\n",
    "if \"world\" in z:\n",
    "    print(\"yes\")\n",
    "else:\n",
    "    print(\"no\")"
   ]
  },
  {
   "cell_type": "code",
   "execution_count": 36,
   "id": "a3b4b2c2",
   "metadata": {},
   "outputs": [
    {
     "data": {
      "text/plain": [
       "21"
      ]
     },
     "execution_count": 36,
     "metadata": {},
     "output_type": "execute_result"
    }
   ],
   "source": [
    "5|20"
   ]
  },
  {
   "cell_type": "code",
   "execution_count": 39,
   "id": "0cad3c69",
   "metadata": {},
   "outputs": [
    {
     "data": {
      "text/plain": [
       "1"
      ]
     },
     "execution_count": 39,
     "metadata": {},
     "output_type": "execute_result"
    }
   ],
   "source": [
    "0|1  #bitwise operators"
   ]
  },
  {
   "cell_type": "code",
   "execution_count": 41,
   "id": "d37b09bb",
   "metadata": {},
   "outputs": [
    {
     "data": {
      "text/plain": [
       "-1232166"
      ]
     },
     "execution_count": 41,
     "metadata": {},
     "output_type": "execute_result"
    }
   ],
   "source": [
    "~1232165"
   ]
  },
  {
   "cell_type": "markdown",
   "id": "e969f8e8",
   "metadata": {},
   "source": [
    "# lists"
   ]
  },
  {
   "cell_type": "code",
   "execution_count": 51,
   "id": "ac855c28",
   "metadata": {},
   "outputs": [
    {
     "name": "stdout",
     "output_type": "stream",
     "text": [
      "['apple', 'banana', 'cherry', 'apple']\n"
     ]
    }
   ],
   "source": [
    "mylist = [\"apple\",\"banana\",\"cherry\",\"apple\"]\n",
    "\n",
    "print(mylist)"
   ]
  },
  {
   "cell_type": "code",
   "execution_count": 52,
   "id": "4f34feca",
   "metadata": {},
   "outputs": [
    {
     "name": "stdout",
     "output_type": "stream",
     "text": [
      "<class 'list'>\n"
     ]
    }
   ],
   "source": [
    "print(type(mylist))"
   ]
  },
  {
   "cell_type": "code",
   "execution_count": 53,
   "id": "6aa6f0a5",
   "metadata": {},
   "outputs": [
    {
     "name": "stdout",
     "output_type": "stream",
     "text": [
      "4\n"
     ]
    }
   ],
   "source": [
    "print(len(mylist))"
   ]
  },
  {
   "cell_type": "code",
   "execution_count": 54,
   "id": "6529484e",
   "metadata": {},
   "outputs": [],
   "source": [
    "mylist1 = [45,45,56,False, \"apple is fruit\", 4.5]       #mylist1 highlight"
   ]
  },
  {
   "cell_type": "code",
   "execution_count": 55,
   "id": "48c7d4e9",
   "metadata": {},
   "outputs": [
    {
     "name": "stdout",
     "output_type": "stream",
     "text": [
      "[45, 45, 56, False, 'apple is fruit', 4.5]\n"
     ]
    }
   ],
   "source": [
    "print(mylist1)"
   ]
  },
  {
   "cell_type": "code",
   "execution_count": 56,
   "id": "33c3c166",
   "metadata": {},
   "outputs": [
    {
     "data": {
      "text/plain": [
       "6"
      ]
     },
     "execution_count": 56,
     "metadata": {},
     "output_type": "execute_result"
    }
   ],
   "source": [
    "len(mylist1)"
   ]
  },
  {
   "cell_type": "code",
   "execution_count": 62,
   "id": "eafeb606",
   "metadata": {},
   "outputs": [
    {
     "name": "stdout",
     "output_type": "stream",
     "text": [
      "sdf khgoti tip\n"
     ]
    }
   ],
   "source": [
    "x,y,z = [\"sdf\",\"khgoti\",\"tip\"]\n",
    "\n",
    "print(x +\" \" + y+ \" \" +z)"
   ]
  },
  {
   "cell_type": "code",
   "execution_count": 63,
   "id": "bebb0506",
   "metadata": {},
   "outputs": [
    {
     "name": "stdout",
     "output_type": "stream",
     "text": [
      "['mjhj', 'jbui', 'iggi']\n"
     ]
    }
   ],
   "source": [
    "list2= list((\"mjhj\",\"jbui\",\"iggi\"))\n",
    "\n",
    "print(list2)"
   ]
  },
  {
   "cell_type": "code",
   "execution_count": 65,
   "id": "88fa31cf",
   "metadata": {},
   "outputs": [
    {
     "name": "stdout",
     "output_type": "stream",
     "text": [
      "56\n"
     ]
    }
   ],
   "source": [
    "print(mylist1[2])"
   ]
  },
  {
   "cell_type": "code",
   "execution_count": 66,
   "id": "bcd39a12",
   "metadata": {},
   "outputs": [
    {
     "name": "stdout",
     "output_type": "stream",
     "text": [
      "apple is fruit\n"
     ]
    }
   ],
   "source": [
    "print(mylist1[-2])"
   ]
  },
  {
   "cell_type": "code",
   "execution_count": 72,
   "id": "0f730d96",
   "metadata": {},
   "outputs": [
    {
     "name": "stdout",
     "output_type": "stream",
     "text": [
      "[45, 56, False]\n"
     ]
    }
   ],
   "source": [
    "print(mylist1[1:4])"
   ]
  },
  {
   "cell_type": "code",
   "execution_count": 74,
   "id": "0aa32b99",
   "metadata": {},
   "outputs": [
    {
     "name": "stdout",
     "output_type": "stream",
     "text": [
      "[56, False, 'apple is fruit', 4.5]\n"
     ]
    }
   ],
   "source": [
    "print(mylist1[-4:])"
   ]
  },
  {
   "cell_type": "code",
   "execution_count": 78,
   "id": "37dc419a",
   "metadata": {},
   "outputs": [
    {
     "name": "stdout",
     "output_type": "stream",
     "text": [
      "not at all\n"
     ]
    }
   ],
   "source": [
    "if 89  in mylist1:\n",
    "    print(\"yes its there\")\n",
    "else:\n",
    "    print(\"not at all\")\n",
    "    \n",
    "    "
   ]
  },
  {
   "cell_type": "code",
   "execution_count": 79,
   "id": "c5ccd5ea",
   "metadata": {},
   "outputs": [
    {
     "name": "stdout",
     "output_type": "stream",
     "text": [
      "[45, 45, 56, 'joy', 'apple is fruit', 4.5]\n"
     ]
    }
   ],
   "source": [
    "mylist1[3] = \"joy\"\n",
    "print(mylist1)"
   ]
  },
  {
   "cell_type": "code",
   "execution_count": 86,
   "id": "5dc5f941",
   "metadata": {},
   "outputs": [],
   "source": [
    "mylist1[1:3] =  26\n"
   ]
  },
  {
   "cell_type": "code",
   "execution_count": 87,
   "id": "0df78a81",
   "metadata": {},
   "outputs": [
    {
     "name": "stdout",
     "output_type": "stream",
     "text": [
      "[45, 26, 'joy', 'apple is fruit', 4.5]\n"
     ]
    }
   ],
   "source": [
    "print(mylist1)"
   ]
  },
  {
   "cell_type": "code",
   "execution_count": 88,
   "id": "392baa9d",
   "metadata": {},
   "outputs": [
    {
     "name": "stdout",
     "output_type": "stream",
     "text": [
      "[45, 26, 'joy', 'apple is fruit', 4.5]\n"
     ]
    }
   ],
   "source": [
    "print(mylist1)"
   ]
  },
  {
   "cell_type": "code",
   "execution_count": 90,
   "id": "c67b0fb1",
   "metadata": {},
   "outputs": [
    {
     "name": "stdout",
     "output_type": "stream",
     "text": [
      "[45, '7', '8', '9']\n"
     ]
    }
   ],
   "source": [
    "mylist1[1:5] = \"789\"\n",
    "print(mylist1)"
   ]
  },
  {
   "cell_type": "code",
   "execution_count": 91,
   "id": "89d82483",
   "metadata": {},
   "outputs": [],
   "source": [
    "mylist1.insert(1, 7896)"
   ]
  },
  {
   "cell_type": "code",
   "execution_count": 92,
   "id": "7a94e472",
   "metadata": {},
   "outputs": [
    {
     "name": "stdout",
     "output_type": "stream",
     "text": [
      "[45, 7896, '7', '8', '9']\n"
     ]
    }
   ],
   "source": [
    "print(mylist1)"
   ]
  },
  {
   "cell_type": "code",
   "execution_count": 93,
   "id": "1c455df1",
   "metadata": {},
   "outputs": [
    {
     "name": "stdout",
     "output_type": "stream",
     "text": [
      "[45, 7896, '7', '8', '9', 465]\n"
     ]
    }
   ],
   "source": [
    "mylist1.append(465)\n",
    "print(mylist1)"
   ]
  },
  {
   "cell_type": "code",
   "execution_count": 95,
   "id": "dd335ce0",
   "metadata": {},
   "outputs": [
    {
     "name": "stdout",
     "output_type": "stream",
     "text": [
      "[45, 7896, (963, 456), '8', '9', 465]\n"
     ]
    }
   ],
   "source": [
    "mylist1[2] = 963, 456\n",
    "print(mylist1)"
   ]
  },
  {
   "cell_type": "markdown",
   "id": "b89d19ca",
   "metadata": {},
   "source": []
  },
  {
   "cell_type": "code",
   "execution_count": 3,
   "id": "8304d338",
   "metadata": {},
   "outputs": [
    {
     "name": "stdout",
     "output_type": "stream",
     "text": [
      "['apple', 'banana', 'cherry', 'grap', 'blackcurrent', 'watermelon']\n"
     ]
    }
   ],
   "source": [
    "mylist= [\"apple\",\"banana\",\"cherry\",\"grap\",\"blackcurrent\"]\n",
    "mylist.append(\"watermelon\")\n",
    "print(mylist)"
   ]
  },
  {
   "cell_type": "code",
   "execution_count": 5,
   "id": "41c073df",
   "metadata": {},
   "outputs": [
    {
     "name": "stdout",
     "output_type": "stream",
     "text": [
      "['apple', 'banana', 'cherry', 'grap', 'blackcurrent', 'watermelon', ('mengo',), 'mengo']\n"
     ]
    }
   ],
   "source": [
    "thistuple = (\"mengo\")\n",
    "mylist.append(thistuple)\n",
    "print(mylist)"
   ]
  },
  {
   "cell_type": "code",
   "execution_count": 14,
   "id": "42e0a7c4",
   "metadata": {},
   "outputs": [
    {
     "name": "stdout",
     "output_type": "stream",
     "text": [
      "['apple', 'banana', 'cherry', 'grap', 'blackcurrent', 'watermelon', ('mengo',)]\n"
     ]
    }
   ],
   "source": [
    "mylist.remove(\"mengo\")\n",
    "print(mylist)"
   ]
  },
  {
   "cell_type": "code",
   "execution_count": 16,
   "id": "a08b7d5b",
   "metadata": {},
   "outputs": [
    {
     "name": "stdout",
     "output_type": "stream",
     "text": [
      "['apple', 'banana', 'cherry', 'grap', 'blackcurrent', 'watermelon']\n"
     ]
    }
   ],
   "source": [
    "mylist.pop(6)\n",
    "print(mylist)"
   ]
  },
  {
   "cell_type": "code",
   "execution_count": 17,
   "id": "6697032e",
   "metadata": {},
   "outputs": [
    {
     "name": "stdout",
     "output_type": "stream",
     "text": [
      "['apple', 'banana', 'cherry', 'blackcurrent', 'watermelon']\n"
     ]
    }
   ],
   "source": [
    "del mylist[3]\n",
    "print(mylist)"
   ]
  },
  {
   "cell_type": "code",
   "execution_count": 18,
   "id": "3713f7b6",
   "metadata": {},
   "outputs": [
    {
     "name": "stdout",
     "output_type": "stream",
     "text": [
      "[]\n"
     ]
    }
   ],
   "source": [
    "mylist.clear()\n",
    "print(mylist)"
   ]
  },
  {
   "cell_type": "code",
   "execution_count": 20,
   "id": "8accb845",
   "metadata": {},
   "outputs": [
    {
     "name": "stdout",
     "output_type": "stream",
     "text": [
      "789\n",
      "456\n",
      "465\n",
      "269\n",
      "4487\n"
     ]
    }
   ],
   "source": [
    "mylist=[789, 456, 465, 269,4487]\n",
    "\n",
    "for x in mylist:\n",
    "     print(x)"
   ]
  },
  {
   "cell_type": "code",
   "execution_count": 21,
   "id": "ad6eb238",
   "metadata": {},
   "outputs": [
    {
     "name": "stdout",
     "output_type": "stream",
     "text": [
      "0\n",
      "1\n",
      "2\n",
      "3\n",
      "4\n"
     ]
    }
   ],
   "source": [
    "for i in range(len(mylist)):\n",
    "     print(i)"
   ]
  },
  {
   "cell_type": "code",
   "execution_count": 24,
   "id": "d3a07349",
   "metadata": {},
   "outputs": [
    {
     "data": {
      "text/plain": [
       "[<function print>,\n",
       " <function print>,\n",
       " <function print>,\n",
       " <function print>,\n",
       " <function print>]"
      ]
     },
     "execution_count": 24,
     "metadata": {},
     "output_type": "execute_result"
    }
   ],
   "source": [
    "[print for x in mylist]"
   ]
  },
  {
   "cell_type": "code",
   "execution_count": 2,
   "id": "3ea24291",
   "metadata": {},
   "outputs": [
    {
     "name": "stdout",
     "output_type": "stream",
     "text": [
      "mango\n"
     ]
    }
   ],
   "source": [
    "fruits = [\"apple\", \"banana\", \"cherry\", \"kiwi\", \"mango\"]\n",
    "newlist = []\n",
    "\n",
    "for x in fruits:\n",
    "    if \"a\" in x:\n",
    "        x\n",
    "print(x)\n",
    "        "
   ]
  },
  {
   "cell_type": "code",
   "execution_count": 34,
   "id": "b50377eb",
   "metadata": {},
   "outputs": [
    {
     "name": "stdout",
     "output_type": "stream",
     "text": [
      "['apple', 'banana', 'mango']\n"
     ]
    }
   ],
   "source": [
    "newlist = [x for x in fruits if \"a\" in x ]\n",
    "print(newlist)"
   ]
  },
  {
   "cell_type": "code",
   "execution_count": 35,
   "id": "930e5427",
   "metadata": {},
   "outputs": [
    {
     "name": "stdout",
     "output_type": "stream",
     "text": [
      "['apple']\n"
     ]
    }
   ],
   "source": [
    "newlist= [x for x in fruits if \"apple\" == x]\n",
    "print(newlist)"
   ]
  },
  {
   "cell_type": "code",
   "execution_count": 37,
   "id": "ff5c5aef",
   "metadata": {},
   "outputs": [
    {
     "name": "stdout",
     "output_type": "stream",
     "text": [
      "['banana', 'cherry', 'kiwi', 'mango']\n"
     ]
    }
   ],
   "source": [
    "newlist1 = [x for x in fruits if \"apple\" != x]\n",
    "print(newlist1)"
   ]
  },
  {
   "cell_type": "code",
   "execution_count": 39,
   "id": "33428619",
   "metadata": {},
   "outputs": [
    {
     "name": "stdout",
     "output_type": "stream",
     "text": [
      "[0, 1, 2, 3, 4, 5, 6, 7, 8, 9, 10, 11, 12, 13, 14, 15]\n"
     ]
    }
   ],
   "source": [
    "newlist2 = [x for x in range(20) if x <= 15]\n",
    "print(newlist2)"
   ]
  },
  {
   "cell_type": "code",
   "execution_count": 40,
   "id": "28deb010",
   "metadata": {},
   "outputs": [
    {
     "name": "stdout",
     "output_type": "stream",
     "text": [
      "['hello', 'hello', 'hello', 'hello', 'hello']\n"
     ]
    }
   ],
   "source": [
    "newlist = ['hello' for x in fruits]\n",
    "print(newlist)"
   ]
  },
  {
   "cell_type": "code",
   "execution_count": 46,
   "id": "224881b6",
   "metadata": {},
   "outputs": [
    {
     "name": "stdout",
     "output_type": "stream",
     "text": [
      "['apple', 'orenge', 'cherry', 'kiwi', 'mango']\n"
     ]
    }
   ],
   "source": [
    "newlist3 = [x if x != \"banana\" else \"orenge\" for x in fruits]\n",
    "print(newlist3)"
   ]
  },
  {
   "cell_type": "code",
   "execution_count": 52,
   "id": "577b4447",
   "metadata": {},
   "outputs": [
    {
     "name": "stdout",
     "output_type": "stream",
     "text": [
      "[15, 14, 13, 12, 11, 10, 9, 8, 7, 6, 5, 4, 3, 2, 1, 0]\n"
     ]
    }
   ],
   "source": [
    "newlist2.sort(reverse = True)\n",
    "print(newlist2)"
   ]
  },
  {
   "cell_type": "code",
   "execution_count": 53,
   "id": "7479b632",
   "metadata": {},
   "outputs": [
    {
     "name": "stdout",
     "output_type": "stream",
     "text": [
      "[15, 14, 13, 12, 11, 10, 9, 8, 7, 6, 5, 4, 3, 2, 1, 0]\n"
     ]
    }
   ],
   "source": [
    "mylist = newlist2.copy()\n",
    "print(mylist)"
   ]
  },
  {
   "cell_type": "code",
   "execution_count": 56,
   "id": "04877b89",
   "metadata": {},
   "outputs": [
    {
     "name": "stdout",
     "output_type": "stream",
     "text": [
      "[14, 13, 12, 11, 10]\n"
     ]
    },
    {
     "data": {
      "text/plain": [
       "[15, 14, 13, 12, 11, 10, 9, 8, 7, 6]"
      ]
     },
     "execution_count": 56,
     "metadata": {},
     "output_type": "execute_result"
    }
   ],
   "source": [
    "print(mylist[1:6])\n",
    "\n",
    "mylist[:10]"
   ]
  },
  {
   "cell_type": "code",
   "execution_count": 58,
   "id": "779705bd",
   "metadata": {},
   "outputs": [
    {
     "name": "stdout",
     "output_type": "stream",
     "text": [
      "[]\n"
     ]
    }
   ],
   "source": [
    "mylist.clear()\n",
    "\n",
    "print(mylist)"
   ]
  },
  {
   "cell_type": "code",
   "execution_count": 61,
   "id": "14918650",
   "metadata": {},
   "outputs": [
    {
     "name": "stdout",
     "output_type": "stream",
     "text": [
      "[]\n"
     ]
    }
   ],
   "source": [
    "mylist.count(13)\n",
    "print(mylist)"
   ]
  },
  {
   "cell_type": "code",
   "execution_count": 62,
   "id": "abda985f",
   "metadata": {},
   "outputs": [
    {
     "name": "stdout",
     "output_type": "stream",
     "text": [
      "[789, 456, 123, 465]\n"
     ]
    }
   ],
   "source": [
    "list1 = [789, 456]\n",
    "list2 = [123, 465]\n",
    "\n",
    "list1.extend(list2)\n",
    "print(list1)"
   ]
  },
  {
   "cell_type": "code",
   "execution_count": 63,
   "id": "0fe972f6",
   "metadata": {},
   "outputs": [
    {
     "name": "stdout",
     "output_type": "stream",
     "text": [
      "[789, 456, 123, 465, [123, 465]]\n"
     ]
    }
   ],
   "source": [
    "list1.append(list2)\n",
    "print(list1)"
   ]
  },
  {
   "cell_type": "markdown",
   "id": "5fdba227",
   "metadata": {},
   "source": [
    "# tuples"
   ]
  },
  {
   "cell_type": "code",
   "execution_count": 7,
   "id": "790ac8d0",
   "metadata": {},
   "outputs": [
    {
     "name": "stdout",
     "output_type": "stream",
     "text": [
      "('apple', 'banana', 'kiwi', 78, 45.6)\n"
     ]
    }
   ],
   "source": [
    "mytuple = (\"apple\", \"banana\",\"kiwi\", 78, 45.6)\n",
    "print(mytuple)"
   ]
  },
  {
   "cell_type": "code",
   "execution_count": 4,
   "id": "2ec524d3",
   "metadata": {},
   "outputs": [
    {
     "name": "stdout",
     "output_type": "stream",
     "text": [
      "3\n"
     ]
    }
   ],
   "source": [
    "print(len(mytuple))"
   ]
  },
  {
   "cell_type": "code",
   "execution_count": 6,
   "id": "6f4b8005",
   "metadata": {},
   "outputs": [
    {
     "name": "stdout",
     "output_type": "stream",
     "text": [
      "('good',)\n"
     ]
    }
   ],
   "source": [
    "tuple1 = (\"good\",)\n",
    "print(tuple1)"
   ]
  },
  {
   "cell_type": "code",
   "execution_count": 8,
   "id": "5de8e60c",
   "metadata": {},
   "outputs": [
    {
     "data": {
      "text/plain": [
       "tuple"
      ]
     },
     "execution_count": 8,
     "metadata": {},
     "output_type": "execute_result"
    }
   ],
   "source": [
    "type(mytuple)"
   ]
  },
  {
   "cell_type": "code",
   "execution_count": 9,
   "id": "76c0ffbc",
   "metadata": {},
   "outputs": [
    {
     "data": {
      "text/plain": [
       "'banana'"
      ]
     },
     "execution_count": 9,
     "metadata": {},
     "output_type": "execute_result"
    }
   ],
   "source": [
    "mytuple[1]"
   ]
  },
  {
   "cell_type": "code",
   "execution_count": 13,
   "id": "0663e4d8",
   "metadata": {},
   "outputs": [
    {
     "data": {
      "text/plain": [
       "('banana', 'kiwi', 78, 45.6)"
      ]
     },
     "execution_count": 13,
     "metadata": {},
     "output_type": "execute_result"
    }
   ],
   "source": [
    "mytuple[1:]"
   ]
  },
  {
   "cell_type": "code",
   "execution_count": 14,
   "id": "df9008c0",
   "metadata": {},
   "outputs": [
    {
     "name": "stdout",
     "output_type": "stream",
     "text": [
      "('apple', 'banana', 'kiwi', 78, 45.6)\n"
     ]
    }
   ],
   "source": [
    "print(mytuple)"
   ]
  },
  {
   "cell_type": "code",
   "execution_count": 15,
   "id": "59ec19e7",
   "metadata": {},
   "outputs": [
    {
     "name": "stdout",
     "output_type": "stream",
     "text": [
      "['apple', 'cherry', 'kiwi', 78, 45.6]\n",
      "('apple', 'cherry', 'kiwi', 78, 45.6)\n"
     ]
    }
   ],
   "source": [
    "y = list(mytuple)\n",
    "y[1] = \"cherry\"\n",
    "print(y)\n",
    "x = tuple(y)\n",
    "print(x)"
   ]
  },
  {
   "cell_type": "code",
   "execution_count": 16,
   "id": "1bf9559f",
   "metadata": {},
   "outputs": [
    {
     "name": "stdout",
     "output_type": "stream",
     "text": [
      "['apple', 'banana', 'kiwi', 78, 45.6, 'water']\n"
     ]
    }
   ],
   "source": [
    "q = list(mytuple)\n",
    "q.append(\"water\")\n",
    "print(q)"
   ]
  },
  {
   "cell_type": "code",
   "execution_count": 18,
   "id": "a8c12cef",
   "metadata": {},
   "outputs": [
    {
     "name": "stdout",
     "output_type": "stream",
     "text": [
      "('apple', 'banana', 'kiwi', 78, 45.6, 'water')\n"
     ]
    }
   ],
   "source": [
    "mytuple = tuple(q)\n",
    "print(mytuple)\n"
   ]
  },
  {
   "cell_type": "code",
   "execution_count": 19,
   "id": "127b2540",
   "metadata": {},
   "outputs": [
    {
     "name": "stdout",
     "output_type": "stream",
     "text": [
      "['apple', 'kiwi', 78, 45.6, 'water']\n"
     ]
    }
   ],
   "source": [
    "q.remove(\"banana\")\n",
    "print(q)"
   ]
  },
  {
   "cell_type": "code",
   "execution_count": 20,
   "id": "1c219d7e",
   "metadata": {},
   "outputs": [
    {
     "name": "stdout",
     "output_type": "stream",
     "text": [
      "('apple', 'kiwi', 78, 45.6, 'water')\n"
     ]
    }
   ],
   "source": [
    "mytuple =tuple(q)\n",
    "print(mytuple)"
   ]
  },
  {
   "cell_type": "code",
   "execution_count": 22,
   "id": "865fb467",
   "metadata": {},
   "outputs": [
    {
     "name": "stdout",
     "output_type": "stream",
     "text": [
      "('apple', 'kiwi', 78, 45.6, 'water', 'banana')\n"
     ]
    }
   ],
   "source": [
    "y = (\"banana\",)\n",
    "mytuple += y\n",
    "print(mytuple)"
   ]
  },
  {
   "cell_type": "code",
   "execution_count": 23,
   "id": "182b120d",
   "metadata": {},
   "outputs": [
    {
     "name": "stdout",
     "output_type": "stream",
     "text": [
      "('apple', 'banana', 'kiwi', 'grape', 'black')\n"
     ]
    }
   ],
   "source": [
    "fruits = (\"apple\", \"banana\", \"kiwi\")\n",
    "\n",
    "y = (\"grape\",)\n",
    "z = (\"black\",)\n",
    "\n",
    "fruits += y + z\n",
    "print(fruits)\n"
   ]
  },
  {
   "cell_type": "code",
   "execution_count": 24,
   "id": "ae0354cd",
   "metadata": {},
   "outputs": [
    {
     "name": "stdout",
     "output_type": "stream",
     "text": [
      "apple\n",
      "banana\n",
      "['kiwi', 'grape', 'black']\n"
     ]
    }
   ],
   "source": [
    "(q, w, *r) = fruits\n",
    "\n",
    "print(q)\n",
    "print(w)\n",
    "print(r)\n"
   ]
  },
  {
   "cell_type": "code",
   "execution_count": 25,
   "id": "bc074b2b",
   "metadata": {},
   "outputs": [
    {
     "name": "stdout",
     "output_type": "stream",
     "text": [
      "('apple', 'banana', 'kiwi', 'grape', 'black')\n"
     ]
    }
   ],
   "source": [
    "print(fruits)"
   ]
  },
  {
   "cell_type": "code",
   "execution_count": 26,
   "id": "27b683bf",
   "metadata": {},
   "outputs": [
    {
     "name": "stdout",
     "output_type": "stream",
     "text": [
      "apple\n",
      "banana\n",
      "kiwi\n",
      "grape\n",
      "black\n"
     ]
    }
   ],
   "source": [
    "for x in fruits:\n",
    "    print(x)"
   ]
  },
  {
   "cell_type": "code",
   "execution_count": 31,
   "id": "32f67447",
   "metadata": {},
   "outputs": [
    {
     "name": "stdout",
     "output_type": "stream",
     "text": [
      "apple\n",
      "banana\n",
      "kiwi\n",
      "grape\n",
      "black\n"
     ]
    }
   ],
   "source": [
    "for i in range(len(fruits)):\n",
    "      print(fruits[i])"
   ]
  },
  {
   "cell_type": "code",
   "execution_count": 32,
   "id": "3471d919",
   "metadata": {},
   "outputs": [
    {
     "name": "stdout",
     "output_type": "stream",
     "text": [
      "('apple', 'banana', 'kiwi', 'grape', 'black')\n"
     ]
    }
   ],
   "source": [
    "print(fruits)"
   ]
  },
  {
   "cell_type": "code",
   "execution_count": 34,
   "id": "6a9040dd",
   "metadata": {},
   "outputs": [
    {
     "name": "stdout",
     "output_type": "stream",
     "text": [
      "('apple', 'banana', 'kiwi', 'grape', 'black', 'apple', 'banana', 'kiwi', 'grape', 'black', 'apple', 'banana', 'kiwi', 'grape', 'black')\n"
     ]
    }
   ],
   "source": [
    "tuple1 = fruits*3\n",
    "\n",
    "print(tuple1)"
   ]
  },
  {
   "cell_type": "code",
   "execution_count": 36,
   "id": "54186f32",
   "metadata": {},
   "outputs": [
    {
     "name": "stdout",
     "output_type": "stream",
     "text": [
      "('apple', 'banana', 'kiwi', 'grape', 'black', 'blackcurrent')\n"
     ]
    }
   ],
   "source": [
    "tuple2 = (\"blackcurrent\",)\n",
    "\n",
    "print(fruits + tuple2)"
   ]
  },
  {
   "cell_type": "code",
   "execution_count": 37,
   "id": "42027986",
   "metadata": {},
   "outputs": [
    {
     "data": {
      "text/plain": [
       "3"
      ]
     },
     "execution_count": 37,
     "metadata": {},
     "output_type": "execute_result"
    }
   ],
   "source": [
    "tuple1.count(\"banana\")\n"
   ]
  },
  {
   "cell_type": "markdown",
   "id": "b7428743",
   "metadata": {},
   "source": [
    "# sets"
   ]
  },
  {
   "cell_type": "code",
   "execution_count": 44,
   "id": "3e723981",
   "metadata": {},
   "outputs": [
    {
     "name": "stdout",
     "output_type": "stream",
     "text": [
      "{'apple', 'kiwi', 'banana'}\n"
     ]
    }
   ],
   "source": [
    "thisset = {\"apple\", \"banana\", \"kiwi\",\"kiwi\"}\n",
    "print(thisset)"
   ]
  },
  {
   "cell_type": "code",
   "execution_count": 43,
   "id": "2125c33f",
   "metadata": {},
   "outputs": [
    {
     "name": "stdout",
     "output_type": "stream",
     "text": [
      "{'apple', 'kiwi', 'banana'}\n"
     ]
    }
   ],
   "source": [
    "print(thisset)"
   ]
  },
  {
   "cell_type": "code",
   "execution_count": 45,
   "id": "3c71744f",
   "metadata": {},
   "outputs": [
    {
     "data": {
      "text/plain": [
       "3"
      ]
     },
     "execution_count": 45,
     "metadata": {},
     "output_type": "execute_result"
    }
   ],
   "source": [
    "len(thisset)"
   ]
  },
  {
   "cell_type": "code",
   "execution_count": 46,
   "id": "ac9a9fbf",
   "metadata": {},
   "outputs": [
    {
     "name": "stdout",
     "output_type": "stream",
     "text": [
      "apple\n",
      "kiwi\n",
      "banana\n"
     ]
    }
   ],
   "source": [
    "for x in thisset:\n",
    "    print(x)"
   ]
  },
  {
   "cell_type": "code",
   "execution_count": 47,
   "id": "30f9c88e",
   "metadata": {},
   "outputs": [
    {
     "data": {
      "text/plain": [
       "True"
      ]
     },
     "execution_count": 47,
     "metadata": {},
     "output_type": "execute_result"
    }
   ],
   "source": [
    "\"kiwi\" in thisset"
   ]
  },
  {
   "cell_type": "code",
   "execution_count": 50,
   "id": "6f0b61bb",
   "metadata": {},
   "outputs": [
    {
     "name": "stdout",
     "output_type": "stream",
     "text": [
      "['apple', 'kiwi', 'banana']\n"
     ]
    }
   ],
   "source": [
    "q = list(thisset)\n",
    "print(q)"
   ]
  },
  {
   "cell_type": "code",
   "execution_count": 51,
   "id": "da4bebb8",
   "metadata": {},
   "outputs": [],
   "source": [
    "q.append(\"blackcurrent\")"
   ]
  },
  {
   "cell_type": "code",
   "execution_count": 52,
   "id": "ce8149bc",
   "metadata": {},
   "outputs": [
    {
     "name": "stdout",
     "output_type": "stream",
     "text": [
      "['apple', 'kiwi', 'banana', 'blackcurrent']\n"
     ]
    }
   ],
   "source": [
    "print(q)"
   ]
  },
  {
   "cell_type": "code",
   "execution_count": 53,
   "id": "8dcc439c",
   "metadata": {},
   "outputs": [],
   "source": [
    "thisset = set(q)"
   ]
  },
  {
   "cell_type": "code",
   "execution_count": 54,
   "id": "f703e8f3",
   "metadata": {},
   "outputs": [
    {
     "name": "stdout",
     "output_type": "stream",
     "text": [
      "{'apple', 'blackcurrent', 'banana', 'kiwi'}\n"
     ]
    }
   ],
   "source": [
    "print(thisset)"
   ]
  },
  {
   "cell_type": "code",
   "execution_count": 55,
   "id": "6ee656b1",
   "metadata": {},
   "outputs": [],
   "source": [
    "thisset.add(\"grape\")"
   ]
  },
  {
   "cell_type": "code",
   "execution_count": 57,
   "id": "e5e60ac6",
   "metadata": {},
   "outputs": [
    {
     "name": "stdout",
     "output_type": "stream",
     "text": [
      "{'apple', 'grape', 'banana', 'kiwi', 'blackcurrent'}\n"
     ]
    }
   ],
   "source": [
    "print(thisset)"
   ]
  },
  {
   "cell_type": "code",
   "execution_count": 58,
   "id": "6b95ea46",
   "metadata": {},
   "outputs": [
    {
     "name": "stdout",
     "output_type": "stream",
     "text": [
      "{'apple', 'grape', 'watermelon', 'banana', 'kiwi', 'blackcurrent'}\n"
     ]
    }
   ],
   "source": [
    "mylist = [\"watermelon\"]\n",
    "\n",
    "thisset.update(mylist)\n",
    "print(thisset)"
   ]
  },
  {
   "cell_type": "code",
   "execution_count": 60,
   "id": "b5c111a7",
   "metadata": {},
   "outputs": [
    {
     "name": "stdout",
     "output_type": "stream",
     "text": [
      "{'apple', 'grape', 'watermelon', 'kiwi', 'blackcurrent'}\n"
     ]
    }
   ],
   "source": [
    "thisset.remove(\"banana\")\n",
    "print(thisset)\n",
    "\n"
   ]
  },
  {
   "cell_type": "code",
   "execution_count": 61,
   "id": "62ac566d",
   "metadata": {},
   "outputs": [
    {
     "name": "stdout",
     "output_type": "stream",
     "text": [
      "{'grape', 'watermelon', 'kiwi', 'blackcurrent'}\n"
     ]
    }
   ],
   "source": [
    "thisset.pop()\n",
    "print(thisset)"
   ]
  },
  {
   "cell_type": "code",
   "execution_count": 62,
   "id": "8dc5cbf1",
   "metadata": {},
   "outputs": [
    {
     "name": "stdout",
     "output_type": "stream",
     "text": [
      "grape\n",
      "watermelon\n",
      "kiwi\n",
      "blackcurrent\n"
     ]
    }
   ],
   "source": [
    "for x in thisset:\n",
    "    print(x)"
   ]
  },
  {
   "cell_type": "markdown",
   "id": "d3d21819",
   "metadata": {},
   "source": [
    "# dicts\n"
   ]
  },
  {
   "cell_type": "code",
   "execution_count": 22,
   "id": "27def45e",
   "metadata": {},
   "outputs": [
    {
     "name": "stdout",
     "output_type": "stream",
     "text": [
      "{'brand': 'ford', 'model': 'mustang', 'year': 1964}\n"
     ]
    }
   ],
   "source": [
    "#hello dicts\n",
    "\n",
    "thisdict = { \"brand\":\"ford\",\n",
    "           \"model\":\"mustang\",\n",
    "           \"year\":1964,\n",
    "            }\n",
    "print(thisdict)\n",
    "\n"
   ]
  },
  {
   "cell_type": "code",
   "execution_count": 12,
   "id": "9f544781",
   "metadata": {},
   "outputs": [
    {
     "name": "stdout",
     "output_type": "stream",
     "text": [
      "ford\n"
     ]
    }
   ],
   "source": [
    "print(thisdict[\"brand\"])"
   ]
  },
  {
   "cell_type": "code",
   "execution_count": 33,
   "id": "ced20f73",
   "metadata": {},
   "outputs": [
    {
     "data": {
      "text/plain": [
       "'mustang'"
      ]
     },
     "execution_count": 33,
     "metadata": {},
     "output_type": "execute_result"
    }
   ],
   "source": [
    "thisdict[\"year\"]\n",
    "\n",
    "thisdict.get(\"model\")"
   ]
  },
  {
   "cell_type": "code",
   "execution_count": 32,
   "id": "6ae60612",
   "metadata": {},
   "outputs": [
    {
     "name": "stdout",
     "output_type": "stream",
     "text": [
      "dict_keys(['brand', 'model', 'year', 'color'])\n"
     ]
    }
   ],
   "source": [
    "x = thisdict.keys()\n",
    "print(x)"
   ]
  },
  {
   "cell_type": "code",
   "execution_count": 31,
   "id": "14e6da56",
   "metadata": {},
   "outputs": [
    {
     "name": "stdout",
     "output_type": "stream",
     "text": [
      "{'brand': 'ford', 'model': 'mustang', 'year': 1964, 'color': 'white'}\n"
     ]
    }
   ],
   "source": [
    "thisdict[\"color\"] = \"white\"\n",
    "\n",
    "print(thisdict)"
   ]
  },
  {
   "cell_type": "code",
   "execution_count": 34,
   "id": "2c194a8e",
   "metadata": {},
   "outputs": [
    {
     "data": {
      "text/plain": [
       "dict_values(['ford', 'mustang', 1964, 'white'])"
      ]
     },
     "execution_count": 34,
     "metadata": {},
     "output_type": "execute_result"
    }
   ],
   "source": [
    "thisdict.values()"
   ]
  },
  {
   "cell_type": "code",
   "execution_count": 35,
   "id": "295d6a13",
   "metadata": {},
   "outputs": [
    {
     "data": {
      "text/plain": [
       "'white'"
      ]
     },
     "execution_count": 35,
     "metadata": {},
     "output_type": "execute_result"
    }
   ],
   "source": [
    "thisdict[\"color\"]"
   ]
  },
  {
   "cell_type": "code",
   "execution_count": 36,
   "id": "9bb7569f",
   "metadata": {},
   "outputs": [
    {
     "data": {
      "text/plain": [
       "dict_items([('brand', 'ford'), ('model', 'mustang'), ('year', 1964), ('color', 'white')])"
      ]
     },
     "execution_count": 36,
     "metadata": {},
     "output_type": "execute_result"
    }
   ],
   "source": [
    "thisdict.items()"
   ]
  },
  {
   "cell_type": "code",
   "execution_count": 40,
   "id": "ad0e6b68",
   "metadata": {},
   "outputs": [
    {
     "name": "stdout",
     "output_type": "stream",
     "text": [
      "yes its there\n"
     ]
    }
   ],
   "source": [
    "if \"model\" in thisdict:\n",
    "    print(\"yes its there\")\n",
    "    "
   ]
  },
  {
   "cell_type": "code",
   "execution_count": 41,
   "id": "23194dfc",
   "metadata": {},
   "outputs": [
    {
     "name": "stdout",
     "output_type": "stream",
     "text": [
      "{'brand': 'ford', 'model': 'mustang', 'year': 1964, 'color': 'white'}\n"
     ]
    }
   ],
   "source": [
    "print(thisdict)"
   ]
  },
  {
   "cell_type": "code",
   "execution_count": 42,
   "id": "031559e5",
   "metadata": {},
   "outputs": [],
   "source": [
    "thisdict[\"year\"] = 2018"
   ]
  },
  {
   "cell_type": "code",
   "execution_count": 43,
   "id": "4422fdbe",
   "metadata": {},
   "outputs": [
    {
     "name": "stdout",
     "output_type": "stream",
     "text": [
      "{'brand': 'ford', 'model': 'mustang', 'year': 2018, 'color': 'white'}\n"
     ]
    }
   ],
   "source": [
    "print(thisdict)\n"
   ]
  },
  {
   "cell_type": "code",
   "execution_count": 44,
   "id": "b611f369",
   "metadata": {},
   "outputs": [],
   "source": [
    "thisdict.update({\"year\": 1970})"
   ]
  },
  {
   "cell_type": "code",
   "execution_count": 45,
   "id": "e9beefd9",
   "metadata": {},
   "outputs": [
    {
     "name": "stdout",
     "output_type": "stream",
     "text": [
      "{'brand': 'ford', 'model': 'mustang', 'year': 1970, 'color': 'white'}\n"
     ]
    }
   ],
   "source": [
    "print(thisdict)"
   ]
  },
  {
   "cell_type": "code",
   "execution_count": 47,
   "id": "d6993b79",
   "metadata": {},
   "outputs": [
    {
     "data": {
      "text/plain": [
       "dict_keys(['brand', 'model', 'year', 'color'])"
      ]
     },
     "execution_count": 47,
     "metadata": {},
     "output_type": "execute_result"
    }
   ],
   "source": [
    "thisdict.keys()"
   ]
  },
  {
   "cell_type": "code",
   "execution_count": 48,
   "id": "3e325ad4",
   "metadata": {},
   "outputs": [
    {
     "data": {
      "text/plain": [
       "'white'"
      ]
     },
     "execution_count": 48,
     "metadata": {},
     "output_type": "execute_result"
    }
   ],
   "source": [
    "thisdict.pop(\"color\")"
   ]
  },
  {
   "cell_type": "code",
   "execution_count": 49,
   "id": "8f330448",
   "metadata": {},
   "outputs": [
    {
     "name": "stdout",
     "output_type": "stream",
     "text": [
      "{'brand': 'ford', 'model': 'mustang', 'year': 1970}\n"
     ]
    }
   ],
   "source": [
    "print(thisdict)"
   ]
  },
  {
   "cell_type": "code",
   "execution_count": 56,
   "id": "8aeae60e",
   "metadata": {},
   "outputs": [
    {
     "name": "stdout",
     "output_type": "stream",
     "text": [
      "brand ford\n",
      "model mustang\n",
      "year 1970\n"
     ]
    }
   ],
   "source": [
    "for x,y in thisdict.items():\n",
    "    print(x,y)"
   ]
  },
  {
   "cell_type": "code",
   "execution_count": 58,
   "id": "669733b7",
   "metadata": {},
   "outputs": [],
   "source": [
    "mydict= thisdict.copy()"
   ]
  },
  {
   "cell_type": "code",
   "execution_count": 59,
   "id": "82575741",
   "metadata": {},
   "outputs": [
    {
     "name": "stdout",
     "output_type": "stream",
     "text": [
      "{'brand': 'ford', 'model': 'mustang', 'year': 1970}\n"
     ]
    }
   ],
   "source": [
    "print(mydict)"
   ]
  },
  {
   "cell_type": "code",
   "execution_count": 61,
   "id": "bb8f2054",
   "metadata": {},
   "outputs": [
    {
     "data": {
      "text/plain": [
       "{'model': None}"
      ]
     },
     "execution_count": 61,
     "metadata": {},
     "output_type": "execute_result"
    }
   ],
   "source": [
    "thisdict.fromkeys({\"model\":1964})"
   ]
  },
  {
   "cell_type": "markdown",
   "id": "5e429ee6",
   "metadata": {},
   "source": [
    "# python loops"
   ]
  },
  {
   "cell_type": "code",
   "execution_count": null,
   "id": "4e1fbccd",
   "metadata": {},
   "outputs": [],
   "source": [
    "i = 1\n",
    "\n",
    "while i<3:\n",
    "    print(i)\n",
    "    i += 1"
   ]
  },
  {
   "cell_type": "code",
   "execution_count": null,
   "id": "e3a01eff",
   "metadata": {},
   "outputs": [],
   "source": [
    "for x in range(0,6):\n",
    "    print(x)"
   ]
  },
  {
   "cell_type": "code",
   "execution_count": null,
   "id": "8b95722b",
   "metadata": {},
   "outputs": [],
   "source": [
    "print(45400)"
   ]
  },
  {
   "cell_type": "code",
   "execution_count": null,
   "id": "7a04a2f2",
   "metadata": {},
   "outputs": [],
   "source": []
  }
 ],
 "metadata": {
  "kernelspec": {
   "display_name": "Python 3",
   "language": "python",
   "name": "python3"
  },
  "language_info": {
   "codemirror_mode": {
    "name": "ipython",
    "version": 3
   },
   "file_extension": ".py",
   "mimetype": "text/x-python",
   "name": "python",
   "nbconvert_exporter": "python",
   "pygments_lexer": "ipython3",
   "version": "3.8.8"
  }
 },
 "nbformat": 4,
 "nbformat_minor": 5
}
